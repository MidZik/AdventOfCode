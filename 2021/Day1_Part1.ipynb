{
 "cells": [
  {
   "cell_type": "code",
   "execution_count": 3,
   "metadata": {},
   "outputs": [],
   "source": [
    "import bs4\n",
    "import dotenv\n",
    "from os import getenv\n",
    "from pathlib import Path\n",
    "import requests\n",
    "\n",
    "dotenv.load_dotenv()\n",
    "COOKIES = {\"session\": getenv(\"AOC_SESSION\")}\n",
    "problem_input = Path(\"Day1_Input.txt\").read_text()\n"
   ]
  },
  {
   "cell_type": "code",
   "execution_count": 7,
   "metadata": {},
   "outputs": [
    {
     "name": "stdout",
     "output_type": "stream",
     "text": [
      "1502\n"
     ]
    }
   ],
   "source": [
    "# run to solve\n",
    "from itertools import tee\n",
    "def pairwise(iterable):\n",
    "    # pairwise('ABCDEFG') --> AB BC CD DE EF FG\n",
    "    a, b = tee(iterable)\n",
    "    next(b, None)\n",
    "    return zip(a, b)\n",
    "def triwise(iterable):\n",
    "    a, b, c = tee(iterable)\n",
    "    next(b, None)\n",
    "    next(c, None)\n",
    "    next(c, None)\n",
    "    return zip(a, b, c)\n",
    "def solution():\n",
    "    numbers = [int(num) for num in problem_input.split()]\n",
    "    count = 0\n",
    "    for a, b in pairwise(numbers):\n",
    "        if b > a:\n",
    "            count += 1\n",
    "    return count\n",
    "\n",
    "result = solution()\n",
    "print(result)"
   ]
  },
  {
   "cell_type": "code",
   "execution_count": 8,
   "metadata": {},
   "outputs": [
    {
     "name": "stdout",
     "output_type": "stream",
     "text": [
      "CORRECT\n"
     ]
    }
   ],
   "source": [
    "# run to submit\n",
    "response = requests.post(url=\"https://adventofcode.com/2021/day/1/answer\", cookies=COOKIES,\n",
    "                         data={\"level\": 1, \"answer\": result})\n",
    "if not response.ok:\n",
    "    raise ValueError(\"bad response\")\n",
    "message = bs4.BeautifulSoup(response.text, \"html.parser\").article.text\n",
    "if message.startswith(\"That's the\"):\n",
    "    print(\"CORRECT\")\n",
    "elif message.startswith(\"That's not\"):\n",
    "    if \"too low\" in message:\n",
    "        print(\"WRONG: Too low\")\n",
    "    else:\n",
    "        print(\"WRONG: Too high\")\n",
    "else:\n",
    "    print(\"UNKNOWN RESPONSE\")\n"
   ]
  }
 ],
 "metadata": {
  "kernelspec": {
   "display_name": "Python 3",
   "language": "python",
   "name": "python3"
  },
  "language_info": {
   "codemirror_mode": {
    "name": "ipython",
    "version": 3
   },
   "file_extension": ".py",
   "mimetype": "text/x-python",
   "name": "python",
   "nbconvert_exporter": "python",
   "pygments_lexer": "ipython3",
   "version": "3.8.6"
  }
 },
 "nbformat": 4,
 "nbformat_minor": 4
}
