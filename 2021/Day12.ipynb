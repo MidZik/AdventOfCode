{
 "cells": [
  {
   "cell_type": "code",
   "execution_count": 1,
   "id": "483efd56",
   "metadata": {},
   "outputs": [],
   "source": [
    "import aoc\n",
    "import cmath\n",
    "import collections\n",
    "from collections import defaultdict\n",
    "from functools import cache, reduce\n",
    "import itertools as it\n",
    "import math\n",
    "import more_itertools as mit\n",
    "import networkx as nx\n",
    "import numpy as np\n",
    "import operator as op\n",
    "import pandas as pd\n",
    "import re\n",
    "import statistics\n",
    "import utils"
   ]
  },
  {
   "cell_type": "code",
   "execution_count": 41,
   "id": "2742ea6a",
   "metadata": {},
   "outputs": [],
   "source": [
    "test_input=\"\"\"fs-end\n",
    "he-DX\n",
    "fs-he\n",
    "start-DX\n",
    "pj-DX\n",
    "end-zg\n",
    "zg-sl\n",
    "zg-pj\n",
    "pj-he\n",
    "RW-he\n",
    "fs-DX\n",
    "pj-RW\n",
    "zg-RW\n",
    "start-pj\n",
    "he-WI\n",
    "zg-he\n",
    "pj-fs\n",
    "start-RW\"\"\""
   ]
  },
  {
   "cell_type": "markdown",
   "id": "699994ba",
   "metadata": {},
   "source": [
    "# Part 1"
   ]
  },
  {
   "cell_type": "code",
   "execution_count": 19,
   "id": "5257f7ca",
   "metadata": {},
   "outputs": [
    {
     "name": "stdout",
     "output_type": "stream",
     "text": [
      "['end']\n",
      "['DX']\n",
      "['end', 'he']\n",
      "['DX']\n",
      "['DX']\n",
      "['fs', 'zg']\n",
      "['end', 'sl']\n",
      "['end', 'sl', 'pj']\n",
      "['DX', 'zg', 'he']\n",
      "['he']\n",
      "['end', 'he', 'DX']\n",
      "['DX', 'zg', 'he', 'RW']\n",
      "['end', 'sl', 'pj', 'RW']\n",
      "['DX', 'pj']\n",
      "['DX', 'fs', 'pj', 'RW', 'WI']\n",
      "['end', 'sl', 'pj', 'RW', 'he']\n",
      "['DX', 'zg', 'he', 'RW', 'start', 'fs']\n",
      "['DX', 'pj', 'RW']\n",
      "TEST RESULT:  226\n",
      "['js']\n",
      "['CG']\n",
      "['js']\n",
      "['js', 'bj']\n",
      "['CG', 'ak']\n",
      "['re', 'start', 'bj']\n",
      "['qx', 're']\n",
      "['qx', 'ak']\n",
      "['re', 'start', 'bj', 'CG']\n",
      "['start', 'js', 're']\n",
      "['qx', 're', 'CG', 'lg']\n",
      "['ak', 'CG']\n",
      "['CG', 'ak', 're']\n",
      "['ak']\n",
      "['ak', 'end']\n",
      "['js', 'ak', 'bj', 'qx', 'lg']\n",
      "['WP', 'ak']\n",
      "['ak', 'end', 're']\n",
      "['start', 'js', 're', 'CG']\n",
      "['CG', 'ak', 're', 'start']\n",
      "['start', 'js', 're', 'CG', 'WP']\n",
      "['lg']\n",
      "['WP', 'ak', 'lg']\n",
      "['ak', 'CG', 're', 'JG', 'end', 'iw']\n",
      "ACTUAL RESULT:  3230\n"
     ]
    }
   ],
   "source": [
    "# run to solve part 1\n",
    "\n",
    "def is_big(node):\n",
    "    return node.upper() == node\n",
    "\n",
    "def traverse(graph):\n",
    "    path_stack = [\"start\"]\n",
    "    queue_stack = [[adj for adj in graph.neighbors(\"start\")]]\n",
    "    found_paths = []\n",
    "    while path_stack:\n",
    "        cur_node = path_stack[-1]\n",
    "        cur_queue = queue_stack[-1]\n",
    "        if cur_node == \"end\":\n",
    "            found_paths.append(tuple(path_stack))\n",
    "            queue_stack.pop()\n",
    "            path_stack.pop()\n",
    "            continue\n",
    "        if not cur_queue:\n",
    "            queue_stack.pop()\n",
    "            path_stack.pop()\n",
    "            continue\n",
    "        next_node = cur_queue.pop()\n",
    "        next_queue = [node for node in graph.neighbors(next_node) if is_big(node) or node not in path_stack]\n",
    "        path_stack.append(next_node)\n",
    "        queue_stack.append(next_queue)\n",
    "    return len(found_paths)\n",
    "            \n",
    "\n",
    "def part_1(aoc_input):\n",
    "    matches = re.findall(r\"(\\w+)-(\\w+)\", aoc_input)\n",
    "    maze = nx.Graph()\n",
    "    for start, end in matches:\n",
    "        maze.add_edge(start, end)\n",
    "        print(list(maze.neighbors(start)))\n",
    "    return traverse(maze)\n",
    "\n",
    "part_1_test_answer = part_1(test_input)\n",
    "print(\"TEST RESULT: \", part_1_test_answer)\n",
    "part_1_answer = part_1(aoc.get_input(2021, 12))\n",
    "print(\"ACTUAL RESULT: \", part_1_answer)"
   ]
  },
  {
   "cell_type": "code",
   "execution_count": 20,
   "id": "a95f62aa",
   "metadata": {},
   "outputs": [
    {
     "name": "stdout",
     "output_type": "stream",
     "text": [
      "Submitting for YEAR 2021, DAY 12, LEVEL 1: 3230... Correct!\n"
     ]
    }
   ],
   "source": [
    "# run to submit part 1\n",
    "\n",
    "aoc.submit_answer(2021, 12, 1, part_1_answer)"
   ]
  },
  {
   "cell_type": "markdown",
   "id": "ba5c046e",
   "metadata": {},
   "source": [
    "# Part 2"
   ]
  },
  {
   "cell_type": "code",
   "execution_count": 42,
   "id": "750cc040",
   "metadata": {},
   "outputs": [
    {
     "name": "stdout",
     "output_type": "stream",
     "text": [
      "TEST RESULT:  3509\n",
      "ACTUAL RESULT:  83475\n"
     ]
    }
   ],
   "source": [
    "# run to solve part 2\n",
    "\n",
    "def is_big(node):\n",
    "    return node.upper() == node\n",
    "\n",
    "def small_visited_twice(path):\n",
    "    smalls = tuple(node for node in path if not is_big(node))\n",
    "    smalls_set = set(smalls)\n",
    "    return len(smalls_set) < len(smalls)\n",
    "\n",
    "def traverse(graph):\n",
    "    path_stack = [\"start\"]\n",
    "    queue_stack = [[adj for adj in graph.neighbors(\"start\")]]\n",
    "    found_paths = []\n",
    "    while path_stack:\n",
    "        cur_node = path_stack[-1]\n",
    "        cur_queue = queue_stack[-1]\n",
    "        if cur_node == \"end\":\n",
    "            found_paths.append(tuple(path_stack))\n",
    "            queue_stack.pop()\n",
    "            path_stack.pop()\n",
    "            continue\n",
    "        if not cur_queue:\n",
    "            queue_stack.pop()\n",
    "            path_stack.pop()\n",
    "            continue\n",
    "        next_node = cur_queue.pop()\n",
    "        smalls_limited = small_visited_twice(path_stack) or not is_big(next_node) and next_node in path_stack\n",
    "        next_queue = [node for node in graph.neighbors(next_node) if node != \"start\" and (not smalls_limited or is_big(node) or node not in path_stack)]\n",
    "        \n",
    "        path_stack.append(next_node)\n",
    "        queue_stack.append(next_queue)\n",
    "    return len(found_paths)\n",
    "            \n",
    "\n",
    "def part_2(aoc_input):\n",
    "    matches = re.findall(r\"(\\w+)-(\\w+)\", aoc_input)\n",
    "    maze = nx.Graph()\n",
    "    for start, end in matches:\n",
    "        maze.add_edge(start, end)\n",
    "    return traverse(maze)\n",
    "\n",
    "part_2_test_answer = part_2(test_input)\n",
    "print(\"TEST RESULT: \", part_2_test_answer)\n",
    "part_2_answer = part_2(aoc.get_input(2021, 12))\n",
    "print(\"ACTUAL RESULT: \", part_2_answer)"
   ]
  },
  {
   "cell_type": "code",
   "execution_count": 43,
   "id": "70d94391",
   "metadata": {},
   "outputs": [
    {
     "name": "stdout",
     "output_type": "stream",
     "text": [
      "Submitting for YEAR 2021, DAY 12, LEVEL 2: 83475... Correct!\n"
     ]
    }
   ],
   "source": [
    "# run to submit part 2\n",
    "\n",
    "aoc.submit_answer(2021, 12, 2, part_2_answer)"
   ]
  },
  {
   "cell_type": "code",
   "execution_count": null,
   "id": "e4ba9148",
   "metadata": {},
   "outputs": [],
   "source": []
  }
 ],
 "metadata": {
  "kernelspec": {
   "display_name": "Python 3 (ipykernel)",
   "language": "python",
   "name": "python3"
  },
  "language_info": {
   "codemirror_mode": {
    "name": "ipython",
    "version": 3
   },
   "file_extension": ".py",
   "mimetype": "text/x-python",
   "name": "python",
   "nbconvert_exporter": "python",
   "pygments_lexer": "ipython3",
   "version": "3.10.0"
  }
 },
 "nbformat": 4,
 "nbformat_minor": 5
}
