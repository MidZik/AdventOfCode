{
 "cells": [
  {
   "cell_type": "code",
   "execution_count": 1,
   "id": "2ad6afc6",
   "metadata": {},
   "outputs": [],
   "source": [
    "import aoc\n",
    "import cmath\n",
    "import collections\n",
    "from collections import defaultdict\n",
    "from functools import cache, reduce\n",
    "import itertools as it\n",
    "import math\n",
    "import more_itertools as mit\n",
    "import networkx as nx\n",
    "import numpy as np\n",
    "import operator as op\n",
    "import pandas as pd\n",
    "import re\n",
    "import statistics\n",
    "import utils"
   ]
  },
  {
   "cell_type": "code",
   "execution_count": 10,
   "id": "fa65e859",
   "metadata": {},
   "outputs": [],
   "source": [
    "test_input=\"\"\"1163751742\n",
    "1381373672\n",
    "2136511328\n",
    "3694931569\n",
    "7463417111\n",
    "1319128137\n",
    "1359912421\n",
    "3125421639\n",
    "1293138521\n",
    "2311944581\"\"\""
   ]
  },
  {
   "cell_type": "markdown",
   "id": "24dd0d88",
   "metadata": {},
   "source": [
    "# Part 1"
   ]
  },
  {
   "cell_type": "code",
   "execution_count": 59,
   "id": "3f3dc103",
   "metadata": {},
   "outputs": [
    {
     "name": "stdout",
     "output_type": "stream",
     "text": [
      "TEST RESULT:  40\n",
      "ACTUAL RESULT:  595\n"
     ]
    }
   ],
   "source": [
    "# run to solve part 1\n",
    "\n",
    "def part_1(aoc_input):\n",
    "    lines = aoc_input.splitlines()\n",
    "    ints = list(map(int, re.findall(r\"(\\d)\", aoc_input)))\n",
    "    width = len(lines[0])\n",
    "    height = len(lines)\n",
    "    cave = np.array(ints).reshape(len(lines),len(lines[0]))\n",
    "    g = nx.DiGraph()\n",
    "    for x in range(width):\n",
    "        for y in range(height):\n",
    "            pos = x, y\n",
    "            risk = cave[pos]\n",
    "            g.add_node(pos)\n",
    "            if x > 0:\n",
    "                adj = x - 1, y\n",
    "                g.add_edge(adj, pos, weight=risk)\n",
    "            if x < width - 1:\n",
    "                adj = x + 1, y\n",
    "                g.add_edge(adj, pos, weight=risk)\n",
    "            if y > 0:\n",
    "                adj = x, y - 1\n",
    "                g.add_edge(adj, pos, weight=risk)\n",
    "            if y < height - 1:\n",
    "                adj = x, y + 1\n",
    "                g.add_edge(adj, pos, weight=risk)\n",
    "    path = nx.shortest_path(g, (0, 0), (width-1, height-1), \"weight\")\n",
    "    return sum(cave[x, y] for x, y in path[1:])\n",
    "\n",
    "part_1_test_answer = part_1(test_input)\n",
    "print(\"TEST RESULT: \", part_1_test_answer)\n",
    "part_1_answer = part_1(aoc.get_input(2021, 15))\n",
    "print(\"ACTUAL RESULT: \", part_1_answer)"
   ]
  },
  {
   "cell_type": "code",
   "execution_count": 35,
   "id": "60f726cb",
   "metadata": {},
   "outputs": [
    {
     "name": "stdout",
     "output_type": "stream",
     "text": [
      "Submitting for YEAR 2021, DAY 15, LEVEL 1: 595... Correct!\n"
     ]
    }
   ],
   "source": [
    "# run to submit part 1\n",
    "\n",
    "aoc.submit_answer(2021, 15, 1, part_1_answer)"
   ]
  },
  {
   "cell_type": "markdown",
   "id": "773d7c6c",
   "metadata": {},
   "source": [
    "# Part 2"
   ]
  },
  {
   "cell_type": "code",
   "execution_count": 60,
   "id": "47472650",
   "metadata": {},
   "outputs": [
    {
     "name": "stdout",
     "output_type": "stream",
     "text": [
      "TEST RESULT:  315\n",
      "ACTUAL RESULT:  2914\n"
     ]
    }
   ],
   "source": [
    "# run to solve part 2\n",
    "\n",
    "def part_2(aoc_input):\n",
    "    lines = aoc_input.splitlines()\n",
    "    ints = list(map(int, re.findall(r\"(\\d)\", aoc_input)))\n",
    "    width = len(lines[0])\n",
    "    height = len(lines)\n",
    "    actual_width = width * 5\n",
    "    actual_height = height * 5\n",
    "    cave = np.array(ints).reshape(width,height)\n",
    "    actual_cave = np.zeros((actual_width, actual_height), int)\n",
    "    for x in range(5):\n",
    "        for y in range(5):\n",
    "            modified_cave = cave + x + y\n",
    "            while np.any(modified_cave > 9):\n",
    "                modified_cave[modified_cave > 9] = modified_cave[modified_cave > 9] - 9\n",
    "            actual_cave[x * width : (x + 1) * width, y * height : (y + 1) * height] = modified_cave\n",
    "    g = nx.DiGraph()\n",
    "    for x in range(actual_width):\n",
    "        for y in range(actual_height):\n",
    "            pos = x, y\n",
    "            risk = actual_cave[pos]\n",
    "            g.add_node(pos)\n",
    "            if x > 0:\n",
    "                adj = x - 1, y\n",
    "                g.add_edge(adj, pos, weight=risk)\n",
    "            if x < actual_width - 1:\n",
    "                adj = x + 1, y\n",
    "                g.add_edge(adj, pos, weight=risk)\n",
    "            if y > 0:\n",
    "                adj = x, y - 1\n",
    "                g.add_edge(adj, pos, weight=risk)\n",
    "            if y < actual_height - 1:\n",
    "                adj = x, y + 1\n",
    "                g.add_edge(adj, pos, weight=risk)\n",
    "    path = nx.shortest_path(g, (0, 0), ((width * 5)-1, (height * 5)-1), \"weight\")\n",
    "    return sum(actual_cave[x, y] for x, y in path[1:])\n",
    "\n",
    "part_2_test_answer = part_2(test_input)\n",
    "print(\"TEST RESULT: \", part_2_test_answer)\n",
    "part_2_answer = part_2(aoc.get_input(2021, 15))\n",
    "print(\"ACTUAL RESULT: \", part_2_answer)"
   ]
  },
  {
   "cell_type": "code",
   "execution_count": 56,
   "id": "a3a02107",
   "metadata": {},
   "outputs": [
    {
     "name": "stdout",
     "output_type": "stream",
     "text": [
      "Submitting for YEAR 2021, DAY 15, LEVEL 2: 2914... Correct!\n"
     ]
    }
   ],
   "source": [
    "# run to submit part 2\n",
    "\n",
    "aoc.submit_answer(2021, 15, 2, part_2_answer)"
   ]
  },
  {
   "cell_type": "code",
   "execution_count": null,
   "id": "b212c507",
   "metadata": {},
   "outputs": [],
   "source": []
  }
 ],
 "metadata": {
  "kernelspec": {
   "display_name": "Python 3 (ipykernel)",
   "language": "python",
   "name": "python3"
  },
  "language_info": {
   "codemirror_mode": {
    "name": "ipython",
    "version": 3
   },
   "file_extension": ".py",
   "mimetype": "text/x-python",
   "name": "python",
   "nbconvert_exporter": "python",
   "pygments_lexer": "ipython3",
   "version": "3.10.0"
  }
 },
 "nbformat": 4,
 "nbformat_minor": 5
}
