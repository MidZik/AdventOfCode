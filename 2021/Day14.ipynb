{
 "cells": [
  {
   "cell_type": "code",
   "execution_count": 1,
   "id": "6a2c9c7c",
   "metadata": {},
   "outputs": [],
   "source": [
    "import aoc\n",
    "import cmath\n",
    "import collections\n",
    "from collections import defaultdict\n",
    "from functools import cache, reduce\n",
    "import itertools as it\n",
    "import math\n",
    "import more_itertools as mit\n",
    "import networkx as nx\n",
    "import numpy as np\n",
    "import operator as op\n",
    "import pandas as pd\n",
    "import re\n",
    "import statistics\n",
    "import utils"
   ]
  },
  {
   "cell_type": "code",
   "execution_count": 2,
   "id": "a826ef03",
   "metadata": {},
   "outputs": [],
   "source": [
    "test_input=\"\"\"NNCB\n",
    "\n",
    "CH -> B\n",
    "HH -> N\n",
    "CB -> H\n",
    "NH -> C\n",
    "HB -> C\n",
    "HC -> B\n",
    "HN -> C\n",
    "NN -> C\n",
    "BH -> H\n",
    "NC -> B\n",
    "NB -> B\n",
    "BN -> B\n",
    "BB -> N\n",
    "BC -> B\n",
    "CC -> N\n",
    "CN -> C\"\"\""
   ]
  },
  {
   "cell_type": "code",
   "execution_count": 4,
   "id": "f6edd509",
   "metadata": {},
   "outputs": [
    {
     "data": {
      "text/plain": [
       "[('a', 'b'), ('b', 'c'), ('c', 'd')]"
      ]
     },
     "execution_count": 4,
     "metadata": {},
     "output_type": "execute_result"
    }
   ],
   "source": [
    "list(it.pairwise(\"abcd\"))"
   ]
  },
  {
   "cell_type": "markdown",
   "id": "bf23a556",
   "metadata": {},
   "source": [
    "# Part 1"
   ]
  },
  {
   "cell_type": "code",
   "execution_count": 27,
   "id": "112553f1",
   "metadata": {},
   "outputs": [
    {
     "name": "stdout",
     "output_type": "stream",
     "text": [
      "TEST RESULT:  1588\n",
      "ACTUAL RESULT:  2899\n"
     ]
    }
   ],
   "source": [
    "# run to solve part 1\n",
    "\n",
    "from collections import Counter\n",
    "def part_1(aoc_input):\n",
    "    a, b = aoc_input.split('\\n\\n')\n",
    "    template = a\n",
    "    rules = re.findall(r\"(\\w\\w) -> (\\w)\", b)\n",
    "    rules_dict = {a: b for a, b in rules}\n",
    "    for i in range(10):\n",
    "        new_template = []\n",
    "        for pair in (\"\".join(x) for x in it.pairwise(template)):\n",
    "            if pair not in rules_dict:\n",
    "                new_template.append(pair[0])\n",
    "            else:\n",
    "                insert = rules_dict[pair]\n",
    "                new_template.append(pair[0])\n",
    "                new_template.append(insert)\n",
    "        new_template.append(template[-1])\n",
    "        template = \"\".join(new_template)\n",
    "    c = Counter(template)\n",
    "    common_counts = c.most_common()\n",
    "    return common_counts[0][1] - common_counts[-1][1]\n",
    "\n",
    "part_1_test_answer = part_1(test_input)\n",
    "print(\"TEST RESULT: \", part_1_test_answer)\n",
    "part_1_answer = part_1(aoc.get_input(2021, 14))\n",
    "print(\"ACTUAL RESULT: \", part_1_answer)"
   ]
  },
  {
   "cell_type": "code",
   "execution_count": 28,
   "id": "3fb5a3a2",
   "metadata": {},
   "outputs": [
    {
     "name": "stdout",
     "output_type": "stream",
     "text": [
      "Submitting for YEAR 2021, DAY 14, LEVEL 1: 2899... Correct!\n"
     ]
    }
   ],
   "source": [
    "# run to submit part 1\n",
    "\n",
    "aoc.submit_answer(2021, 14, 1, part_1_answer)"
   ]
  },
  {
   "cell_type": "markdown",
   "id": "5e69bb74",
   "metadata": {},
   "source": [
    "# Part 2"
   ]
  },
  {
   "cell_type": "code",
   "execution_count": 38,
   "id": "852369fa",
   "metadata": {},
   "outputs": [
    {
     "name": "stdout",
     "output_type": "stream",
     "text": [
      "TEST RESULT:  2188189693529\n",
      "ACTUAL RESULT:  3528317079545\n"
     ]
    }
   ],
   "source": [
    "# run to solve part 2\n",
    "\n",
    "from collections import Counter\n",
    "def part_2(aoc_input):\n",
    "    a, b = aoc_input.split('\\n\\n')\n",
    "    template = a\n",
    "    last = template[-1]\n",
    "    rules = re.findall(r\"(\\w\\w) -> (\\w)\", b)\n",
    "    rules_dict = {a: b for a, b in rules}\n",
    "    pairs = Counter(\"\".join(x) for x in it.pairwise(template))\n",
    "    for i in range(40):\n",
    "        new_pairs = Counter()\n",
    "        for p, count in pairs.items():\n",
    "            if p in rules_dict:\n",
    "                left, right = p[0] + rules_dict[p], rules_dict[p] + p[1]\n",
    "                new_pairs[left] += count\n",
    "                new_pairs[right] += count\n",
    "            else:\n",
    "                new_pairs[p] += count\n",
    "        pairs = new_pairs\n",
    "    elem_counter = Counter()\n",
    "    for (a, b), count in pairs.items():\n",
    "        elem_counter[a] += count\n",
    "    elem_counter[last] += 1\n",
    "    common_counts = elem_counter.most_common()\n",
    "    return common_counts[0][1] - common_counts[-1][1]\n",
    "                \n",
    "\n",
    "part_2_test_answer = part_2(test_input)\n",
    "print(\"TEST RESULT: \", part_2_test_answer)\n",
    "part_2_answer = part_2(aoc.get_input(2021, 14))\n",
    "print(\"ACTUAL RESULT: \", part_2_answer)"
   ]
  },
  {
   "cell_type": "code",
   "execution_count": 37,
   "id": "4090dc3c",
   "metadata": {},
   "outputs": [
    {
     "name": "stdout",
     "output_type": "stream",
     "text": [
      "Submitting for YEAR 2021, DAY 14, LEVEL 2: 3528317079545... Correct!\n"
     ]
    }
   ],
   "source": [
    "# run to submit part 2\n",
    "\n",
    "aoc.submit_answer(2021, 14, 2, part_2_answer)"
   ]
  },
  {
   "cell_type": "code",
   "execution_count": null,
   "id": "9ab7eefd",
   "metadata": {},
   "outputs": [],
   "source": []
  }
 ],
 "metadata": {
  "kernelspec": {
   "display_name": "Python 3 (ipykernel)",
   "language": "python",
   "name": "python3"
  },
  "language_info": {
   "codemirror_mode": {
    "name": "ipython",
    "version": 3
   },
   "file_extension": ".py",
   "mimetype": "text/x-python",
   "name": "python",
   "nbconvert_exporter": "python",
   "pygments_lexer": "ipython3",
   "version": "3.10.0"
  }
 },
 "nbformat": 4,
 "nbformat_minor": 5
}
