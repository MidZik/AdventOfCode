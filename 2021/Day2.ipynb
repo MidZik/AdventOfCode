{
 "cells": [
  {
   "cell_type": "code",
   "execution_count": 2,
   "id": "11c27b9e",
   "metadata": {},
   "outputs": [],
   "source": [
    "import aoc\n",
    "import numpy as np\n",
    "import pandas as pd\n",
    "from more_itertools import *\n",
    "from itertools import *\n",
    "import operator"
   ]
  },
  {
   "cell_type": "markdown",
   "id": "b7046b01",
   "metadata": {},
   "source": [
    "# Part 1"
   ]
  },
  {
   "cell_type": "code",
   "execution_count": 8,
   "id": "3db489ab",
   "metadata": {},
   "outputs": [
    {
     "name": "stdout",
     "output_type": "stream",
     "text": [
      "2039256\n"
     ]
    }
   ],
   "source": [
    "# run to solve part 1\n",
    "\n",
    "def part_1(input):\n",
    "    lines = input.splitlines()\n",
    "    x = 0\n",
    "    y = 0\n",
    "    for line in lines:\n",
    "        split_line = line.split()\n",
    "        match line.split():\n",
    "            case ['forward', v]:\n",
    "                x += int(v)\n",
    "            case ['down', v]:\n",
    "                y += int(v)\n",
    "            case ['up', v]:\n",
    "                y -= int(v)\n",
    "    return x * y\n",
    "                \n",
    "\n",
    "part_1_answer = part_1(aoc.get_input(2021, 2))\n",
    "print(part_1_answer)"
   ]
  },
  {
   "cell_type": "code",
   "execution_count": 15,
   "id": "0cd627fc",
   "metadata": {},
   "outputs": [
    {
     "name": "stdout",
     "output_type": "stream",
     "text": [
      "Submitting for YEAR 2021, DAY 2, LEVEL 1: 2039256... Correct!\n"
     ]
    }
   ],
   "source": [
    "# run to submit part 1\n",
    "\n",
    "aoc.submit_answer(2021, 2, 1, part_1_answer)"
   ]
  },
  {
   "cell_type": "markdown",
   "id": "a3009e3b",
   "metadata": {},
   "source": [
    "# Part 2"
   ]
  },
  {
   "cell_type": "code",
   "execution_count": 20,
   "id": "76098758",
   "metadata": {},
   "outputs": [
    {
     "name": "stdout",
     "output_type": "stream",
     "text": [
      "1856459736\n"
     ]
    }
   ],
   "source": [
    "# run to solve part 2\n",
    "\n",
    "def part_2(input):\n",
    "    lines = input.splitlines()\n",
    "    x = 0\n",
    "    y = 0\n",
    "    aim = 0\n",
    "    for line in lines:\n",
    "        split_line = line.split()\n",
    "        match line.split():\n",
    "            case ['forward', v]:\n",
    "                x += int(v)\n",
    "                y += aim * int(v)\n",
    "            case ['down', v]:\n",
    "                aim += int(v)\n",
    "            case ['up', v]:\n",
    "                aim -= int(v)\n",
    "    return x * y\n",
    "\n",
    "part_2_answer = part_2(aoc.get_input(2021, 2))\n",
    "print(part_2_answer)"
   ]
  },
  {
   "cell_type": "code",
   "execution_count": 22,
   "id": "899116a4",
   "metadata": {},
   "outputs": [
    {
     "name": "stdout",
     "output_type": "stream",
     "text": [
      "Submitting for YEAR 2021, DAY 2, LEVEL 2: 1856459736... Correct!\n"
     ]
    }
   ],
   "source": [
    "# run to submit part 2\n",
    "\n",
    "aoc.submit_answer(2021, 2, 2, part_2_answer)"
   ]
  },
  {
   "cell_type": "code",
   "execution_count": null,
   "id": "d6d8fd01",
   "metadata": {},
   "outputs": [],
   "source": []
  }
 ],
 "metadata": {
  "kernelspec": {
   "display_name": "Python 3 (ipykernel)",
   "language": "python",
   "name": "python3"
  },
  "language_info": {
   "codemirror_mode": {
    "name": "ipython",
    "version": 3
   },
   "file_extension": ".py",
   "mimetype": "text/x-python",
   "name": "python",
   "nbconvert_exporter": "python",
   "pygments_lexer": "ipython3",
   "version": "3.10.0"
  }
 },
 "nbformat": 4,
 "nbformat_minor": 5
}
