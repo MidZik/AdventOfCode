{
 "cells": [
  {
   "cell_type": "code",
   "execution_count": 21,
   "id": "93c4b030",
   "metadata": {},
   "outputs": [],
   "source": [
    "import aoc\n",
    "import cmath\n",
    "from itertools import *\n",
    "import math\n",
    "from more_itertools import *\n",
    "import numpy as np\n",
    "import operator\n",
    "import pandas as pd\n",
    "import utils"
   ]
  },
  {
   "cell_type": "code",
   "execution_count": null,
   "id": "accce5be",
   "metadata": {},
   "outputs": [],
   "source": []
  },
  {
   "cell_type": "markdown",
   "id": "d17e0560",
   "metadata": {},
   "source": [
    "# Part 1"
   ]
  },
  {
   "cell_type": "code",
   "execution_count": 22,
   "id": "e98bacbd",
   "metadata": {},
   "outputs": [
    {
     "name": "stdout",
     "output_type": "stream",
     "text": [
      "2576 1519\n",
      "3912944\n"
     ]
    }
   ],
   "source": [
    "# run to solve part 1\n",
    "def part_1(input):\n",
    "    lines = input.splitlines()\n",
    "    counts = [0] * len(lines[0])\n",
    "    for line in lines:\n",
    "        for n, bit in enumerate(line):\n",
    "            if bit == '1':\n",
    "                counts[n] += 1\n",
    "    gamma = \"\"\n",
    "    epsilon = \"\"\n",
    "    for n, count in enumerate(counts):\n",
    "        gamma += \"1\" if count >= len(lines) // 2 else \"0\"\n",
    "        epsilon += \"0\" if count >= len(lines) // 2 else \"1\"\n",
    "    gamma = int(gamma, 2)\n",
    "    epsilon = int(epsilon, 2)\n",
    "    print(gamma, epsilon)\n",
    "    return gamma * epsilon\n",
    "            \n",
    "\n",
    "part_1_answer = part_1(aoc.get_input(2021, 3))\n",
    "print(part_1_answer)"
   ]
  },
  {
   "cell_type": "code",
   "execution_count": 24,
   "id": "f0498470",
   "metadata": {},
   "outputs": [
    {
     "name": "stdout",
     "output_type": "stream",
     "text": [
      "Submitting for YEAR 2021, DAY 3, LEVEL 1: 3912944... You already submitted a correct answer!\n"
     ]
    }
   ],
   "source": [
    "# run to submit part 1\n",
    "\n",
    "aoc.submit_answer(2021, 3, 1, part_1_answer)"
   ]
  },
  {
   "cell_type": "markdown",
   "id": "0d954f6b",
   "metadata": {},
   "source": [
    "# Part 2"
   ]
  },
  {
   "cell_type": "code",
   "execution_count": 23,
   "id": "56f9a894",
   "metadata": {},
   "outputs": [
    {
     "name": "stdout",
     "output_type": "stream",
     "text": [
      "['111000001101']\n",
      "['010101101101']\n",
      "3597 1389\n",
      "4996233\n"
     ]
    }
   ],
   "source": [
    "# run to solve part 2\n",
    "\n",
    "def count_pos(lines, pos):\n",
    "    count_0 = 0\n",
    "    count_1 = 0\n",
    "    for line in lines:\n",
    "        if line[pos] == '0':\n",
    "            count_0 += 1\n",
    "        else:\n",
    "            count_1 += 1\n",
    "    return count_0, count_1\n",
    "\n",
    "def part_2(input):\n",
    "    lines = input.splitlines()\n",
    "    oxygen_lines = list(lines)\n",
    "    co2_lines = list(lines)\n",
    "    n = 0\n",
    "    while len(oxygen_lines) > 1:\n",
    "        count_0, count_1 = count_pos(oxygen_lines, n)\n",
    "        if count_1 >= count_0:\n",
    "            oxygen_lines = [line for line in oxygen_lines if line[n] == '1']\n",
    "        else:\n",
    "            oxygen_lines = [line for line in oxygen_lines if line[n] == '0']\n",
    "        n += 1\n",
    "    n = 0\n",
    "    while len(co2_lines) > 1:\n",
    "        count_0, count_1 = count_pos(co2_lines, n)\n",
    "        if count_0 <= count_1:\n",
    "            co2_lines = [line for line in co2_lines if line[n] == '0']\n",
    "        else:\n",
    "            co2_lines = [line for line in co2_lines if line[n] == '1']\n",
    "        n += 1\n",
    "    print(oxygen_lines)\n",
    "    print(co2_lines)\n",
    "    ox, = oxygen_lines\n",
    "    co2, = co2_lines\n",
    "    ox = int(ox, 2)\n",
    "    co2 = int(co2, 2)\n",
    "    print(ox, co2)\n",
    "    return ox * co2\n",
    "\n",
    "part_2_answer = part_2(aoc.get_input(2021, 3))\n",
    "print(part_2_answer)"
   ]
  },
  {
   "cell_type": "code",
   "execution_count": 25,
   "id": "56899377",
   "metadata": {},
   "outputs": [
    {
     "name": "stdout",
     "output_type": "stream",
     "text": [
      "Submitting for YEAR 2021, DAY 3, LEVEL 2: 4996233... You already submitted a correct answer!\n"
     ]
    }
   ],
   "source": [
    "# run to submit part 2\n",
    "\n",
    "aoc.submit_answer(2021, 3, 2, part_2_answer)"
   ]
  },
  {
   "cell_type": "code",
   "execution_count": null,
   "id": "02470cb4",
   "metadata": {},
   "outputs": [],
   "source": []
  }
 ],
 "metadata": {
  "kernelspec": {
   "display_name": "Python 3 (ipykernel)",
   "language": "python",
   "name": "python3"
  },
  "language_info": {
   "codemirror_mode": {
    "name": "ipython",
    "version": 3
   },
   "file_extension": ".py",
   "mimetype": "text/x-python",
   "name": "python",
   "nbconvert_exporter": "python",
   "pygments_lexer": "ipython3",
   "version": "3.10.0"
  }
 },
 "nbformat": 4,
 "nbformat_minor": 5
}
