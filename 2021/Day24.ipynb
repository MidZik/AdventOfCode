{
 "cells": [
  {
   "cell_type": "code",
   "execution_count": 21,
   "id": "6529c1f0",
   "metadata": {},
   "outputs": [],
   "source": [
    "import aoc\n",
    "import cmath\n",
    "import collections\n",
    "from collections import defaultdict\n",
    "from functools import cache, reduce\n",
    "import itertools as it\n",
    "import math\n",
    "import more_itertools as mit\n",
    "import networkx as nx\n",
    "import numpy as np\n",
    "import operator as op\n",
    "import pandas as pd\n",
    "import re\n",
    "import statistics\n",
    "import utils"
   ]
  },
  {
   "cell_type": "code",
   "execution_count": 22,
   "id": "23985cef",
   "metadata": {},
   "outputs": [],
   "source": [
    "test_input=\"\"\"\"\"\""
   ]
  },
  {
   "cell_type": "markdown",
   "id": "6a40a6d6",
   "metadata": {},
   "source": [
    "# NOTE\n",
    "Today was solved manually. See comments in part 1 to see constraints on the model number."
   ]
  },
  {
   "cell_type": "markdown",
   "id": "9341e187",
   "metadata": {},
   "source": [
    "# Part 1"
   ]
  },
  {
   "cell_type": "code",
   "execution_count": 23,
   "id": "6109c02c",
   "metadata": {},
   "outputs": [],
   "source": [
    "# run to solve part 1\n",
    "\n",
    "def run_segment(inp, c1, c2, c3, z):\n",
    "    x = z % 26 + c2\n",
    "    z = math.trunc(z / c1)\n",
    "    if x != inp:\n",
    "        return z * 26 + inp + c3\n",
    "    return z\n",
    "\n",
    "aoc_manual_input = (\n",
    "    (1, 11, 6), # z1 = inp1 + 6\n",
    "    (1, 11, 12), # z2 = inp2 + 12\n",
    "    (1, 15, 8), # z3 = inp3 + 8\n",
    "    (26, -11, 7), # enforce inp4 = inp3 + 8 - 11 (-3)\n",
    "    (1, 15, 7), # z5 = inp5 + 7\n",
    "    (1, 11, 12), # z6 = inp6 + 12\n",
    "    (1, 14, 2), # z7 = inp7 + 2\n",
    "    (26, -7, 15), # enforce inp8 = inp7 + 2 - 7 (-5)\n",
    "    (1, 12, 4), # z9 = inp9 + 4\n",
    "    (26, -6, 5), # enforce inp10 = inp9 + 4 - 6 (-2)\n",
    "    (26, -10, 12), # enforce inp11 = inp6 + 12 - 10 (+2)\n",
    "    (26, -15, 11), # enforce inp12 = inp5 + 7 - 15 (-8)\n",
    "    (26, -9, 13), # enforce inp13 = inp2 + 12 - 9 (+3)\n",
    "    (26, 0, 7) # enforce inp14 = inp1 + 6 (+6)\n",
    ")\n",
    "\n",
    "def run_input(inp):\n",
    "    z = 0\n",
    "    for i, c in zip(inp, aoc_manual_input):\n",
    "        z = run_segment(i, *c, z)\n",
    "    return z"
   ]
  },
  {
   "cell_type": "code",
   "execution_count": 24,
   "id": "43798375",
   "metadata": {},
   "outputs": [
    {
     "data": {
      "text/plain": [
       "0"
      ]
     },
     "execution_count": 24,
     "metadata": {},
     "output_type": "execute_result"
    }
   ],
   "source": [
    "36969794979199\n",
    "inp = (3,6,9,6,9,7,9,4,9,7,9,1,9,9)\n",
    "run_input(inp)"
   ]
  },
  {
   "cell_type": "markdown",
   "id": "0e5732d9",
   "metadata": {},
   "source": [
    "# Part 2"
   ]
  },
  {
   "cell_type": "code",
   "execution_count": 25,
   "id": "edf85c66",
   "metadata": {},
   "outputs": [
    {
     "data": {
      "text/plain": [
       "0"
      ]
     },
     "execution_count": 25,
     "metadata": {},
     "output_type": "execute_result"
    }
   ],
   "source": [
    "11419161313147\n",
    "inp2 = (1,1,4,1,9,1,6,1,3,1,3,1,4,7)\n",
    "run_input(inp2)"
   ]
  }
 ],
 "metadata": {
  "kernelspec": {
   "display_name": "Python 3 (ipykernel)",
   "language": "python",
   "name": "python3"
  },
  "language_info": {
   "codemirror_mode": {
    "name": "ipython",
    "version": 3
   },
   "file_extension": ".py",
   "mimetype": "text/x-python",
   "name": "python",
   "nbconvert_exporter": "python",
   "pygments_lexer": "ipython3",
   "version": "3.10.0"
  }
 },
 "nbformat": 4,
 "nbformat_minor": 5
}
