{
 "cells": [
  {
   "cell_type": "code",
   "execution_count": 1,
   "id": "02d3df16",
   "metadata": {},
   "outputs": [],
   "source": [
    "import aoc\n",
    "import cmath\n",
    "import collections\n",
    "from collections import defaultdict\n",
    "from functools import cache, reduce\n",
    "import itertools as it\n",
    "import math\n",
    "import more_itertools as mit\n",
    "import networkx as nx\n",
    "import numpy as np\n",
    "import operator as op\n",
    "import pandas as pd\n",
    "import re\n",
    "import statistics\n",
    "import utils"
   ]
  },
  {
   "cell_type": "code",
   "execution_count": null,
   "id": "231ed88b",
   "metadata": {},
   "outputs": [],
   "source": []
  },
  {
   "cell_type": "markdown",
   "id": "af89aeb0",
   "metadata": {},
   "source": [
    "# Part 1"
   ]
  },
  {
   "cell_type": "code",
   "execution_count": 5,
   "id": "9ef60380",
   "metadata": {},
   "outputs": [
    {
     "name": "stdout",
     "output_type": "stream",
     "text": [
      "607\n"
     ]
    }
   ],
   "source": [
    "# run to solve part 1\n",
    "\n",
    "def part_1(aoc_input):\n",
    "    lines = aoc_input.splitlines()\n",
    "    all_ints = list(map(int,re.findall(r'\\d', aoc_input)))\n",
    "    arr = np.array(all_ints).reshape(-1, len(lines[0]))\n",
    "    width = len(lines[0])\n",
    "    height = len(all_ints) // width\n",
    "    risks = []\n",
    "    for x, y in it.product(range(width), range(height)):\n",
    "        checks = []\n",
    "        if x > 0:\n",
    "            checks.append((x-1, y))\n",
    "        if x < width - 1:\n",
    "            checks.append((x + 1, y))\n",
    "        if y > 0:\n",
    "            checks.append((x, y - 1))\n",
    "        if y < height - 1:\n",
    "            checks.append((x, y + 1))\n",
    "        v = arr[x, y]\n",
    "        if all(arr[c] > v for c in checks):\n",
    "            risks.append(v + 1)\n",
    "    return sum(risks)\n",
    "        \n",
    "    \n",
    "\n",
    "part_1_answer = part_1(aoc.get_input(2021, 9))\n",
    "print(part_1_answer)"
   ]
  },
  {
   "cell_type": "code",
   "execution_count": 6,
   "id": "0eef07cf",
   "metadata": {},
   "outputs": [
    {
     "name": "stdout",
     "output_type": "stream",
     "text": [
      "Submitting for YEAR 2021, DAY 9, LEVEL 1: 607... Correct!\n"
     ]
    }
   ],
   "source": [
    "# run to submit part 1\n",
    "\n",
    "aoc.submit_answer(2021, 9, 1, part_1_answer)"
   ]
  },
  {
   "cell_type": "markdown",
   "id": "3986fdbf",
   "metadata": {},
   "source": [
    "# Part 2"
   ]
  },
  {
   "cell_type": "code",
   "execution_count": 23,
   "id": "ea731577",
   "metadata": {},
   "outputs": [
    {
     "name": "stdout",
     "output_type": "stream",
     "text": [
      "900864\n"
     ]
    }
   ],
   "source": [
    "# run to solve part 2\n",
    "\n",
    "def part_2(aoc_input):\n",
    "    lines = aoc_input.splitlines()\n",
    "    all_ints = list(map(int,re.findall(r'\\d', aoc_input)))\n",
    "    arr = np.array(all_ints).reshape(-1, len(lines[0]))\n",
    "    graph = nx.Graph()\n",
    "    width = len(lines[0])\n",
    "    height = len(all_ints) // width\n",
    "    def index_val(x, y):\n",
    "        return y * height + x, arr[x, y]\n",
    "    for x, y in it.product(range(width), range(height)):\n",
    "        index, val = index_val(x, y)\n",
    "        if val == 9:\n",
    "            continue\n",
    "        graph.add_node(index)\n",
    "        if x > 0:\n",
    "            il, vl = index_val(x - 1, y)\n",
    "            if vl != 9:\n",
    "                graph.add_edge(index, il)\n",
    "        if y > 0:\n",
    "            il, vl = index_val(x, y - 1)\n",
    "            if vl != 9:\n",
    "                graph.add_edge(index, il)\n",
    "    subgs = list(nx.connected_components(graph))\n",
    "    sorted_subgs = sorted(subgs, key=len, reverse=True)\n",
    "    return math.prod(len(g) for g in sorted_subgs[:3])\n",
    "\n",
    "part_2_answer = part_2(aoc.get_input(2021, 9))\n",
    "print(part_2_answer)"
   ]
  },
  {
   "cell_type": "code",
   "execution_count": 20,
   "id": "d898afd1",
   "metadata": {},
   "outputs": [
    {
     "name": "stdout",
     "output_type": "stream",
     "text": [
      "Submitting for YEAR 2021, DAY 9, LEVEL 2: 900864... Correct!\n"
     ]
    }
   ],
   "source": [
    "# run to submit part 2\n",
    "\n",
    "aoc.submit_answer(2021, 9, 2, part_2_answer)"
   ]
  },
  {
   "cell_type": "code",
   "execution_count": null,
   "id": "e2ca9851",
   "metadata": {},
   "outputs": [],
   "source": []
  }
 ],
 "metadata": {
  "kernelspec": {
   "display_name": "Python 3 (ipykernel)",
   "language": "python",
   "name": "python3"
  },
  "language_info": {
   "codemirror_mode": {
    "name": "ipython",
    "version": 3
   },
   "file_extension": ".py",
   "mimetype": "text/x-python",
   "name": "python",
   "nbconvert_exporter": "python",
   "pygments_lexer": "ipython3",
   "version": "3.10.0"
  }
 },
 "nbformat": 4,
 "nbformat_minor": 5
}
