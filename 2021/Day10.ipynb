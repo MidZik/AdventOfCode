{
 "cells": [
  {
   "cell_type": "code",
   "execution_count": 1,
   "id": "f76ef7ca",
   "metadata": {},
   "outputs": [],
   "source": [
    "import aoc\n",
    "import cmath\n",
    "import collections\n",
    "from collections import defaultdict\n",
    "from functools import cache, reduce\n",
    "import itertools as it\n",
    "import math\n",
    "import more_itertools as mit\n",
    "import networkx as nx\n",
    "import numpy as np\n",
    "import operator as op\n",
    "import pandas as pd\n",
    "import re\n",
    "import statistics\n",
    "import utils"
   ]
  },
  {
   "cell_type": "code",
   "execution_count": null,
   "id": "790c5496",
   "metadata": {},
   "outputs": [],
   "source": []
  },
  {
   "cell_type": "markdown",
   "id": "eb62bf6a",
   "metadata": {},
   "source": [
    "# Part 1"
   ]
  },
  {
   "cell_type": "code",
   "execution_count": 19,
   "id": "393957e3",
   "metadata": {},
   "outputs": [
    {
     "name": "stdout",
     "output_type": "stream",
     "text": [
      "168417\n"
     ]
    }
   ],
   "source": [
    "# run to solve part 1\n",
    "import ast\n",
    "def part_1(aoc_input):\n",
    "    lines = aoc_input.splitlines()\n",
    "    ill = []\n",
    "    for line in lines:\n",
    "        stack = []\n",
    "        for c in line:\n",
    "            match c:\n",
    "                case '[' | '(' | '<' | '{':\n",
    "                    stack.append(c)\n",
    "                case ')':\n",
    "                    if stack[-1] == '(':\n",
    "                        stack.pop()\n",
    "                    else:\n",
    "                        ill.append(3)\n",
    "                        break\n",
    "                case ']':\n",
    "                    if stack[-1] == '[':\n",
    "                        stack.pop()\n",
    "                    else:\n",
    "                        ill.append(57)\n",
    "                        break\n",
    "                case '>':\n",
    "                    if stack[-1] == '<':\n",
    "                        stack.pop()\n",
    "                    else:\n",
    "                        ill.append(25137)\n",
    "                        break\n",
    "                case '}':\n",
    "                    if stack[-1] == '{':\n",
    "                        stack.pop()\n",
    "                    else:\n",
    "                        ill.append(1197)\n",
    "                        break\n",
    "    return sum(ill)\n",
    "\n",
    "part_1_answer = part_1(aoc.get_input(2021, 10))\n",
    "print(part_1_answer)"
   ]
  },
  {
   "cell_type": "code",
   "execution_count": 10,
   "id": "3d19c7c5",
   "metadata": {},
   "outputs": [
    {
     "name": "stdout",
     "output_type": "stream",
     "text": [
      "Submitting for YEAR 2021, DAY 10, LEVEL 1: 168417... Correct!\n"
     ]
    }
   ],
   "source": [
    "# run to submit part 1\n",
    "\n",
    "aoc.submit_answer(2021, 10, 1, part_1_answer)"
   ]
  },
  {
   "cell_type": "markdown",
   "id": "c01f2aa8",
   "metadata": {},
   "source": [
    "# Part 2"
   ]
  },
  {
   "cell_type": "code",
   "execution_count": 15,
   "id": "34803a3b",
   "metadata": {},
   "outputs": [
    {
     "name": "stdout",
     "output_type": "stream",
     "text": [
      "2802519786\n"
     ]
    }
   ],
   "source": [
    "# run to solve part 2\n",
    "\n",
    "def part_2(aoc_input):\n",
    "    lines = aoc_input.splitlines()\n",
    "    ill = []\n",
    "    scores = []\n",
    "    for line in lines:\n",
    "        stack = []\n",
    "        for c in line:\n",
    "            match c:\n",
    "                case '[' | '(' | '<' | '{':\n",
    "                    stack.append(c)\n",
    "                case ')':\n",
    "                    if stack[-1] == '(':\n",
    "                        stack.pop()\n",
    "                    else:\n",
    "                        ill.append(3)\n",
    "                        break\n",
    "                case ']':\n",
    "                    if stack[-1] == '[':\n",
    "                        stack.pop()\n",
    "                    else:\n",
    "                        ill.append(57)\n",
    "                        break\n",
    "                case '>':\n",
    "                    if stack[-1] == '<':\n",
    "                        stack.pop()\n",
    "                    else:\n",
    "                        ill.append(25137)\n",
    "                        break\n",
    "                case '}':\n",
    "                    if stack[-1] == '{':\n",
    "                        stack.pop()\n",
    "                    else:\n",
    "                        ill.append(1197)\n",
    "                        break\n",
    "        else:\n",
    "            complete = []\n",
    "            for c in stack[::-1]:\n",
    "                match c:\n",
    "                    case '[':\n",
    "                        complete.append(']')\n",
    "                    case '(':\n",
    "                        complete.append(')')\n",
    "                    case '<':\n",
    "                        complete.append('>')\n",
    "                    case '{':\n",
    "                        complete.append('}')\n",
    "            score = 0\n",
    "            for c in complete:\n",
    "                score *= 5\n",
    "                match c:\n",
    "                    case ')':\n",
    "                        score += 1\n",
    "                    case ']':\n",
    "                        score += 2\n",
    "                    case '>':\n",
    "                        score += 4\n",
    "                    case '}':\n",
    "                        score += 3\n",
    "            scores.append(score)\n",
    "    s_scores = list(sorted(scores))\n",
    "    return s_scores[len(s_scores) // 2]\n",
    "\n",
    "part_2_answer = part_2(aoc.get_input(2021, 10))\n",
    "print(part_2_answer)"
   ]
  },
  {
   "cell_type": "code",
   "execution_count": 18,
   "id": "78fdd91a",
   "metadata": {},
   "outputs": [
    {
     "name": "stdout",
     "output_type": "stream",
     "text": [
      "Submitting for YEAR 2021, DAY 10, LEVEL 2: 2802519786... Correct!\n"
     ]
    }
   ],
   "source": [
    "# run to submit part 2\n",
    "\n",
    "aoc.submit_answer(2021, 10, 2, part_2_answer)"
   ]
  },
  {
   "cell_type": "code",
   "execution_count": null,
   "id": "797299a9",
   "metadata": {},
   "outputs": [],
   "source": []
  }
 ],
 "metadata": {
  "kernelspec": {
   "display_name": "Python 3 (ipykernel)",
   "language": "python",
   "name": "python3"
  },
  "language_info": {
   "codemirror_mode": {
    "name": "ipython",
    "version": 3
   },
   "file_extension": ".py",
   "mimetype": "text/x-python",
   "name": "python",
   "nbconvert_exporter": "python",
   "pygments_lexer": "ipython3",
   "version": "3.10.0"
  }
 },
 "nbformat": 4,
 "nbformat_minor": 5
}
