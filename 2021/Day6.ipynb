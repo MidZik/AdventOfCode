{
 "cells": [
  {
   "cell_type": "code",
   "execution_count": 20,
   "id": "30035d10",
   "metadata": {},
   "outputs": [],
   "source": [
    "import aoc\n",
    "import cmath\n",
    "import collections\n",
    "import functools\n",
    "import itertools as it\n",
    "import math\n",
    "import more_itertools as mit\n",
    "import numpy as np\n",
    "import operator as op\n",
    "import pandas as pd\n",
    "import re\n",
    "import utils"
   ]
  },
  {
   "cell_type": "code",
   "execution_count": null,
   "id": "47be35f6",
   "metadata": {},
   "outputs": [],
   "source": []
  },
  {
   "cell_type": "markdown",
   "id": "17f15395",
   "metadata": {},
   "source": [
    "# Part 1"
   ]
  },
  {
   "cell_type": "code",
   "execution_count": 5,
   "id": "9eaf1a67",
   "metadata": {},
   "outputs": [
    {
     "name": "stdout",
     "output_type": "stream",
     "text": [
      "[4, 1, 1, 4, 1, 2, 1, 4, 1, 3, 4, 4, 1, 5, 5, 1, 3, 1, 1, 1, 4, 4, 3, 1, 5, 3, 1, 2, 5, 1, 1, 5, 1, 1, 4, 1, 1, 1, 1, 2, 1, 5, 3, 4, 4, 1, 1, 1, 1, 1, 1, 1, 1, 1, 2, 1, 1, 1, 1, 1, 5, 1, 1, 1, 4, 1, 2, 3, 5, 1, 2, 2, 4, 1, 4, 4, 4, 1, 2, 5, 1, 2, 1, 1, 1, 1, 1, 1, 4, 1, 1, 4, 3, 4, 2, 1, 3, 1, 1, 1, 3, 5, 5, 4, 3, 4, 1, 5, 1, 1, 1, 2, 2, 1, 3, 1, 2, 4, 1, 1, 3, 3, 1, 3, 3, 1, 1, 3, 1, 5, 1, 1, 3, 1, 1, 1, 5, 4, 1, 1, 1, 1, 4, 1, 1, 3, 5, 4, 3, 1, 1, 5, 4, 1, 1, 2, 5, 4, 2, 1, 4, 1, 1, 1, 1, 3, 1, 1, 1, 1, 4, 1, 1, 1, 1, 2, 4, 1, 1, 1, 1, 3, 1, 1, 5, 1, 1, 1, 1, 1, 1, 4, 2, 1, 3, 1, 1, 1, 2, 4, 2, 3, 1, 4, 1, 2, 1, 4, 2, 1, 4, 4, 1, 5, 1, 1, 4, 4, 1, 2, 2, 1, 1, 1, 1, 1, 1, 1, 1, 1, 1, 1, 4, 5, 4, 1, 3, 1, 3, 1, 1, 1, 5, 3, 5, 5, 2, 2, 1, 4, 1, 4, 2, 1, 4, 1, 2, 1, 1, 2, 1, 1, 5, 4, 2, 1, 1, 1, 2, 4, 1, 1, 1, 1, 2, 1, 1, 5, 1, 1, 2, 2, 5, 1, 1, 1, 1, 1, 2, 4, 2, 3, 1, 2, 1, 5, 4, 5, 1, 4]\n",
      "376194\n"
     ]
    }
   ],
   "source": [
    "# run to solve part 1\n",
    "\n",
    "def get_new(items):\n",
    "    new_items = [8 for item in items if item == 0]\n",
    "    items = [(item - 1 if item > 0 else 6) for item in items]\n",
    "    return items + new_items\n",
    "\n",
    "def part_1(aoc_input):\n",
    "    lines = aoc_input.splitlines()\n",
    "    items = list(map(int, lines[0].split(',')))\n",
    "    print(items)\n",
    "    for n in range(80):\n",
    "        items = get_new(items)\n",
    "    return len(items)\n",
    "\n",
    "part_1_answer = part_1(aoc.get_input(2021, 6))\n",
    "print(part_1_answer)"
   ]
  },
  {
   "cell_type": "code",
   "execution_count": 6,
   "id": "f7e3fc06",
   "metadata": {},
   "outputs": [
    {
     "name": "stdout",
     "output_type": "stream",
     "text": [
      "Submitting for YEAR 2021, DAY 6, LEVEL 1: 376194... Correct!\n"
     ]
    }
   ],
   "source": [
    "# run to submit part 1\n",
    "\n",
    "aoc.submit_answer(2021, 6, 1, part_1_answer)"
   ]
  },
  {
   "cell_type": "markdown",
   "id": "af8d1f27",
   "metadata": {},
   "source": [
    "# Part 2"
   ]
  },
  {
   "cell_type": "code",
   "execution_count": 21,
   "id": "dac15c2e",
   "metadata": {},
   "outputs": [
    {
     "name": "stdout",
     "output_type": "stream",
     "text": [
      "1693022481538\n"
     ]
    }
   ],
   "source": [
    "# run to solve part 2\n",
    "@functools.cache\n",
    "def calculate(n, days):\n",
    "    if days == 0:\n",
    "        return 1\n",
    "    elif n == 0:\n",
    "        return calculate(8, days - 1) + calculate(6, days - 1)\n",
    "    else:\n",
    "        return calculate(n - 1, days - 1)\n",
    "\n",
    "def part_2(aoc_input):\n",
    "    lines = aoc_input.splitlines()\n",
    "    items = list(map(int, lines[0].split(',')))\n",
    "    return sum(calculate(item, 256) for item in items)\n",
    "\n",
    "part_2_answer = part_2(aoc.get_input(2021, 6))\n",
    "print(part_2_answer)"
   ]
  },
  {
   "cell_type": "code",
   "execution_count": 14,
   "id": "cb3aec0f",
   "metadata": {},
   "outputs": [
    {
     "name": "stdout",
     "output_type": "stream",
     "text": [
      "Submitting for YEAR 2021, DAY 6, LEVEL 2: 1693022481538... Correct!\n"
     ]
    }
   ],
   "source": [
    "# run to submit part 2\n",
    "\n",
    "aoc.submit_answer(2021, 6, 2, part_2_answer)"
   ]
  },
  {
   "cell_type": "code",
   "execution_count": null,
   "id": "e41c4e3a",
   "metadata": {},
   "outputs": [],
   "source": []
  }
 ],
 "metadata": {
  "kernelspec": {
   "display_name": "Python 3 (ipykernel)",
   "language": "python",
   "name": "python3"
  },
  "language_info": {
   "codemirror_mode": {
    "name": "ipython",
    "version": 3
   },
   "file_extension": ".py",
   "mimetype": "text/x-python",
   "name": "python",
   "nbconvert_exporter": "python",
   "pygments_lexer": "ipython3",
   "version": "3.10.0"
  }
 },
 "nbformat": 4,
 "nbformat_minor": 5
}
