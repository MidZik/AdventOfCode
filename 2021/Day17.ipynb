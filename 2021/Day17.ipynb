{
 "cells": [
  {
   "cell_type": "code",
   "execution_count": 1,
   "id": "0dc21b96",
   "metadata": {},
   "outputs": [],
   "source": [
    "import aoc\n",
    "import cmath\n",
    "import collections\n",
    "from collections import defaultdict\n",
    "from functools import cache, reduce\n",
    "import itertools as it\n",
    "import math\n",
    "import more_itertools as mit\n",
    "import networkx as nx\n",
    "import numpy as np\n",
    "import operator as op\n",
    "import pandas as pd\n",
    "import re\n",
    "import statistics\n",
    "import utils"
   ]
  },
  {
   "cell_type": "code",
   "execution_count": 3,
   "id": "190fe0bb",
   "metadata": {},
   "outputs": [],
   "source": [
    "test_input=\"\"\"target area: x=20..30, y=-10..-5\"\"\""
   ]
  },
  {
   "cell_type": "markdown",
   "id": "e7ff9de8",
   "metadata": {},
   "source": [
    "# Part 1"
   ]
  },
  {
   "cell_type": "code",
   "execution_count": 22,
   "id": "ddf9bcfc",
   "metadata": {},
   "outputs": [
    {
     "name": "stdout",
     "output_type": "stream",
     "text": [
      "TEST RESULT:  45\n",
      "ACTUAL RESULT:  11175\n"
     ]
    }
   ],
   "source": [
    "# run to solve part 1\n",
    "\n",
    "def in_target(pos, target):\n",
    "    xa, xb, ya, yb = target\n",
    "    x, y = pos\n",
    "    if xa <= x <= xb and ya <= y <= yb:\n",
    "        return True\n",
    "    return False\n",
    "\n",
    "def part_1(aoc_input):\n",
    "    target, = re.findall(r\"target area: x=(-?\\d+)\\.\\.(-?\\d+), y=(-?\\d+)..(-?\\d+)\", aoc_input)\n",
    "    target = tuple(map(int, target))\n",
    "    \n",
    "    pos = 0, 0\n",
    "    hits = []\n",
    "    for start_xvel in range(1, 50):\n",
    "        for start_yvel in range(1, 500):\n",
    "            pos = 0, 0\n",
    "            vel = start_xvel, start_yvel\n",
    "            ymax = -99999999\n",
    "            while vel[1] > 0 or pos[1] > target[3]:\n",
    "                pos = pos[0] + vel[0], pos[1] + vel[1]\n",
    "                ymax = max(ymax, pos[1])\n",
    "                vel = max(0, vel[0] - 1), vel[1] - 1\n",
    "                if in_target(pos, target):\n",
    "                    hits.append((pos, ymax))\n",
    "                    break\n",
    "    hits = sorted(hits, key=lambda v: v[1])\n",
    "    return hits[-1][1]\n",
    "\n",
    "\n",
    "part_1_test_answer = part_1(test_input)\n",
    "print(\"TEST RESULT: \", part_1_test_answer)\n",
    "part_1_answer = part_1(aoc.get_input(2021, 17))\n",
    "print(\"ACTUAL RESULT: \", part_1_answer)"
   ]
  },
  {
   "cell_type": "code",
   "execution_count": 23,
   "id": "f8c34dc3",
   "metadata": {},
   "outputs": [
    {
     "name": "stdout",
     "output_type": "stream",
     "text": [
      "Submitting for YEAR 2021, DAY 17, LEVEL 1: 11175... Correct!\n"
     ]
    }
   ],
   "source": [
    "# run to submit part 1\n",
    "\n",
    "aoc.submit_answer(2021, 17, 1, part_1_answer)"
   ]
  },
  {
   "cell_type": "markdown",
   "id": "40c112cd",
   "metadata": {},
   "source": [
    "# Part 2"
   ]
  },
  {
   "cell_type": "code",
   "execution_count": 37,
   "id": "a8dc6524",
   "metadata": {},
   "outputs": [
    {
     "name": "stdout",
     "output_type": "stream",
     "text": [
      "TEST RESULT:  112\n",
      "ACTUAL RESULT:  3540\n"
     ]
    }
   ],
   "source": [
    "# run to solve part 2\n",
    "\n",
    "def in_target(pos, target):\n",
    "    xa, xb, ya, yb = target\n",
    "    x, y = pos\n",
    "    if xa <= x <= xb and ya <= y <= yb:\n",
    "        return True\n",
    "    return False\n",
    "\n",
    "def part_2(aoc_input):\n",
    "    target, = re.findall(r\"target area: x=(-?\\d+)\\.\\.(-?\\d+), y=(-?\\d+)..(-?\\d+)\", aoc_input)\n",
    "    target = tuple(map(int, target))\n",
    "    \n",
    "    pos = 0, 0\n",
    "    hits = []\n",
    "    for start_xvel in range(1, 130):\n",
    "        for start_yvel in range(-150, 600):\n",
    "            pos = 0, 0\n",
    "            vel = start_xvel, start_yvel\n",
    "            while pos[0] <= target[1] and pos[1] >= target[2]:\n",
    "                pos = pos[0] + vel[0], pos[1] + vel[1]\n",
    "                vel = max(0, vel[0] - 1), vel[1] - 1\n",
    "                if in_target(pos, target):\n",
    "                    hits.append((start_xvel, start_yvel))\n",
    "                    break\n",
    "    return len(hits)\n",
    "\n",
    "part_2_test_answer = part_2(test_input)\n",
    "print(\"TEST RESULT: \", part_2_test_answer)\n",
    "part_2_answer = part_2(aoc.get_input(2021, 17))\n",
    "print(\"ACTUAL RESULT: \", part_2_answer)"
   ]
  },
  {
   "cell_type": "code",
   "execution_count": 39,
   "id": "1ad8abc7",
   "metadata": {},
   "outputs": [
    {
     "name": "stdout",
     "output_type": "stream",
     "text": [
      "Submitting for YEAR 2021, DAY 17, LEVEL 2: 3540... Correct!\n"
     ]
    }
   ],
   "source": [
    "# run to submit part 2\n",
    "\n",
    "aoc.submit_answer(2021, 17, 2, part_2_answer)"
   ]
  },
  {
   "cell_type": "code",
   "execution_count": null,
   "id": "3de4c1d3",
   "metadata": {},
   "outputs": [],
   "source": []
  }
 ],
 "metadata": {
  "kernelspec": {
   "display_name": "Python 3 (ipykernel)",
   "language": "python",
   "name": "python3"
  },
  "language_info": {
   "codemirror_mode": {
    "name": "ipython",
    "version": 3
   },
   "file_extension": ".py",
   "mimetype": "text/x-python",
   "name": "python",
   "nbconvert_exporter": "python",
   "pygments_lexer": "ipython3",
   "version": "3.10.0"
  }
 },
 "nbformat": 4,
 "nbformat_minor": 5
}
