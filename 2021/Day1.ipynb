{
 "cells": [
  {
   "cell_type": "code",
   "execution_count": null,
   "id": "dbc6db01",
   "metadata": {},
   "outputs": [],
   "source": [
    "import aoc\n",
    "import numpy as np\n",
    "import pandas as pd\n",
    "from more_itertools import *\n",
    "from itertools import *\n",
    "import operator"
   ]
  },
  {
   "cell_type": "markdown",
   "id": "cc78ccf9",
   "metadata": {},
   "source": [
    "# Part 1"
   ]
  },
  {
   "cell_type": "code",
   "execution_count": null,
   "id": "8fd9fb2f",
   "metadata": {},
   "outputs": [],
   "source": [
    "# run to solve part 1\n",
    "\n",
    "def part_1(input):\n",
    "    pass\n",
    "\n",
    "part_1_answer = part_1(aoc.get_input(2021, 1))\n",
    "print(part_1_answer)"
   ]
  },
  {
   "cell_type": "code",
   "execution_count": null,
   "id": "f47cb61a",
   "metadata": {},
   "outputs": [],
   "source": [
    "# run to submit part 1\n",
    "\n",
    "aoc.submit_answer(2021, 1, 1, part_1_answer)"
   ]
  },
  {
   "cell_type": "markdown",
   "id": "b008e0cc",
   "metadata": {},
   "source": [
    "# Part 2"
   ]
  },
  {
   "cell_type": "code",
   "execution_count": null,
   "id": "626ed20f",
   "metadata": {},
   "outputs": [],
   "source": [
    "# run to solve part 2\n",
    "\n",
    "def part_2(input):\n",
    "    pass\n",
    "\n",
    "part_2_answer = part_2(aoc.get_input(2021, 1))\n",
    "print(part_2_answer)"
   ]
  },
  {
   "cell_type": "code",
   "execution_count": null,
   "id": "a036498a",
   "metadata": {},
   "outputs": [],
   "source": [
    "# run to submit part 2\n",
    "\n",
    "aoc.submit_answer(2021, 1, 2, part_2_answer)"
   ]
  }
 ],
 "metadata": {},
 "nbformat": 4,
 "nbformat_minor": 5
}
