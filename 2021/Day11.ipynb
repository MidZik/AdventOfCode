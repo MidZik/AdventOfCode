{
 "cells": [
  {
   "cell_type": "code",
   "execution_count": 1,
   "id": "3bb43e4f",
   "metadata": {},
   "outputs": [],
   "source": [
    "import aoc\n",
    "import cmath\n",
    "import collections\n",
    "from collections import defaultdict\n",
    "from functools import cache, reduce\n",
    "import itertools as it\n",
    "import math\n",
    "import more_itertools as mit\n",
    "import networkx as nx\n",
    "import numpy as np\n",
    "import operator as op\n",
    "import pandas as pd\n",
    "import re\n",
    "import statistics\n",
    "import utils"
   ]
  },
  {
   "cell_type": "code",
   "execution_count": 2,
   "id": "2ffca2d7",
   "metadata": {},
   "outputs": [],
   "source": [
    "test_input=\"\"\"5483143223\n",
    "2745854711\n",
    "5264556173\n",
    "6141336146\n",
    "6357385478\n",
    "4167524645\n",
    "2176841721\n",
    "6882881134\n",
    "4846848554\n",
    "5283751526\"\"\""
   ]
  },
  {
   "cell_type": "markdown",
   "id": "177b768e",
   "metadata": {},
   "source": [
    "# Part 1"
   ]
  },
  {
   "cell_type": "code",
   "execution_count": 26,
   "id": "d2a58ccc",
   "metadata": {},
   "outputs": [
    {
     "name": "stdout",
     "output_type": "stream",
     "text": [
      "[[5 4 8 3 1 4 3 2 2 3]\n",
      " [2 7 4 5 8 5 4 7 1 1]\n",
      " [5 2 6 4 5 5 6 1 7 3]\n",
      " [6 1 4 1 3 3 6 1 4 6]\n",
      " [6 3 5 7 3 8 5 4 7 8]\n",
      " [4 1 6 7 5 2 4 6 4 5]\n",
      " [2 1 7 6 8 4 1 7 2 1]\n",
      " [6 8 8 2 8 8 1 1 3 4]\n",
      " [4 8 4 6 8 4 8 5 5 4]\n",
      " [5 2 8 3 7 5 1 5 2 6]]\n",
      "TEST RESULT:  1656\n",
      "[[2 5 6 6 8 8 5 4 3 2]\n",
      " [3 8 5 7 4 1 4 3 5 7]\n",
      " [6 7 6 1 5 4 3 2 4 7]\n",
      " [5 4 7 7 3 3 2 1 1 4]\n",
      " [3 7 3 1 5 8 5 3 8 5]\n",
      " [1 7 1 6 7 8 3 1 7 3]\n",
      " [1 2 7 7 3 2 1 6 1 2]\n",
      " [3 3 7 1 1 7 6 1 4 8]\n",
      " [1 1 6 2 5 7 8 2 8 5]\n",
      " [6 1 4 4 7 2 6 3 6 7]]\n",
      "ACTUAL RESULT:  1647\n"
     ]
    }
   ],
   "source": [
    "# run to solve part 1\n",
    "def valid(x, y):\n",
    "    return x >= 0 and y >= 0 and x < 10 and y < 10\n",
    "\n",
    "def adj(pos):\n",
    "    posx, posy = pos\n",
    "    return ((posx + x, posy + y) for x in range(-1, 2) for y in range(-1, 2) if (x, y) != (0, 0) and valid(posx + x, posy + y))\n",
    "\n",
    "def step(grid):\n",
    "    grid += 1\n",
    "    all_flashes = grid > 9\n",
    "    flashes = all_flashes\n",
    "    while np.any(flashes):\n",
    "        for pos in it.product(range(10), range(10)):\n",
    "            if flashes[pos]:\n",
    "                for a in adj(pos):\n",
    "                    #print(a)\n",
    "                    grid[a] += 1\n",
    "        flashes = (~all_flashes) & (grid > 9)\n",
    "        all_flashes = grid > 9\n",
    "    grid[grid > 9] = 0\n",
    "    return all_flashes\n",
    "\n",
    "def part_1(aoc_input):\n",
    "    lines = aoc_input.splitlines()\n",
    "    all_digits = re.findall(r\"(\\d)\", aoc_input)\n",
    "    arr = np.array(all_digits, int)\n",
    "    arr = arr.reshape(10, 10)\n",
    "    print(arr)\n",
    "    count = 0\n",
    "    for i in range(100):\n",
    "        flashes = step(arr)\n",
    "        s = np.sum(flashes)\n",
    "        #print(arr)\n",
    "        #print(s)\n",
    "        count += s\n",
    "    return count\n",
    "\n",
    "part_1_test_answer = part_1(test_input)\n",
    "print(\"TEST RESULT: \", part_1_test_answer)\n",
    "part_1_answer = part_1(aoc.get_input(2021, 11))\n",
    "print(\"ACTUAL RESULT: \", part_1_answer)"
   ]
  },
  {
   "cell_type": "code",
   "execution_count": 27,
   "id": "8aef1264",
   "metadata": {},
   "outputs": [
    {
     "name": "stdout",
     "output_type": "stream",
     "text": [
      "Submitting for YEAR 2021, DAY 11, LEVEL 1: 1647... Correct!\n"
     ]
    }
   ],
   "source": [
    "# run to submit part 1\n",
    "\n",
    "aoc.submit_answer(2021, 11, 1, part_1_answer)"
   ]
  },
  {
   "cell_type": "markdown",
   "id": "e64660ee",
   "metadata": {},
   "source": [
    "# Part 2"
   ]
  },
  {
   "cell_type": "code",
   "execution_count": 29,
   "id": "d5d391a1",
   "metadata": {},
   "outputs": [
    {
     "name": "stdout",
     "output_type": "stream",
     "text": [
      "[[5 4 8 3 1 4 3 2 2 3]\n",
      " [2 7 4 5 8 5 4 7 1 1]\n",
      " [5 2 6 4 5 5 6 1 7 3]\n",
      " [6 1 4 1 3 3 6 1 4 6]\n",
      " [6 3 5 7 3 8 5 4 7 8]\n",
      " [4 1 6 7 5 2 4 6 4 5]\n",
      " [2 1 7 6 8 4 1 7 2 1]\n",
      " [6 8 8 2 8 8 1 1 3 4]\n",
      " [4 8 4 6 8 4 8 5 5 4]\n",
      " [5 2 8 3 7 5 1 5 2 6]]\n",
      "TEST RESULT:  195\n",
      "[[2 5 6 6 8 8 5 4 3 2]\n",
      " [3 8 5 7 4 1 4 3 5 7]\n",
      " [6 7 6 1 5 4 3 2 4 7]\n",
      " [5 4 7 7 3 3 2 1 1 4]\n",
      " [3 7 3 1 5 8 5 3 8 5]\n",
      " [1 7 1 6 7 8 3 1 7 3]\n",
      " [1 2 7 7 3 2 1 6 1 2]\n",
      " [3 3 7 1 1 7 6 1 4 8]\n",
      " [1 1 6 2 5 7 8 2 8 5]\n",
      " [6 1 4 4 7 2 6 3 6 7]]\n",
      "ACTUAL RESULT:  348\n"
     ]
    }
   ],
   "source": [
    "# run to solve part 2\n",
    "\n",
    "def valid(x, y):\n",
    "    return x >= 0 and y >= 0 and x < 10 and y < 10\n",
    "\n",
    "def adj(pos):\n",
    "    posx, posy = pos\n",
    "    return ((posx + x, posy + y) for x in range(-1, 2) for y in range(-1, 2) if (x, y) != (0, 0) and valid(posx + x, posy + y))\n",
    "\n",
    "def step(grid):\n",
    "    grid += 1\n",
    "    all_flashes = grid > 9\n",
    "    flashes = all_flashes\n",
    "    while np.any(flashes):\n",
    "        for pos in it.product(range(10), range(10)):\n",
    "            if flashes[pos]:\n",
    "                for a in adj(pos):\n",
    "                    #print(a)\n",
    "                    grid[a] += 1\n",
    "        flashes = (~all_flashes) & (grid > 9)\n",
    "        all_flashes = grid > 9\n",
    "    grid[grid > 9] = 0\n",
    "    return all_flashes\n",
    "\n",
    "def part_2(aoc_input):\n",
    "    lines = aoc_input.splitlines()\n",
    "    all_digits = re.findall(r\"(\\d)\", aoc_input)\n",
    "    arr = np.array(all_digits, int)\n",
    "    arr = arr.reshape(10, 10)\n",
    "    print(arr)\n",
    "    count = 0\n",
    "    for i in range(10000000):\n",
    "        flashes = step(arr)\n",
    "        if np.sum(flashes) == 100:\n",
    "            return i + 1\n",
    "\n",
    "part_2_test_answer = part_2(test_input)\n",
    "print(\"TEST RESULT: \", part_2_test_answer)\n",
    "part_2_answer = part_2(aoc.get_input(2021, 11))\n",
    "print(\"ACTUAL RESULT: \", part_2_answer)"
   ]
  },
  {
   "cell_type": "code",
   "execution_count": 30,
   "id": "f1d093bb",
   "metadata": {},
   "outputs": [
    {
     "name": "stdout",
     "output_type": "stream",
     "text": [
      "Submitting for YEAR 2021, DAY 11, LEVEL 2: 348... Correct!\n"
     ]
    }
   ],
   "source": [
    "# run to submit part 2\n",
    "\n",
    "aoc.submit_answer(2021, 11, 2, part_2_answer)"
   ]
  },
  {
   "cell_type": "code",
   "execution_count": null,
   "id": "d92dbb84",
   "metadata": {},
   "outputs": [],
   "source": []
  }
 ],
 "metadata": {
  "kernelspec": {
   "display_name": "Python 3 (ipykernel)",
   "language": "python",
   "name": "python3"
  },
  "language_info": {
   "codemirror_mode": {
    "name": "ipython",
    "version": 3
   },
   "file_extension": ".py",
   "mimetype": "text/x-python",
   "name": "python",
   "nbconvert_exporter": "python",
   "pygments_lexer": "ipython3",
   "version": "3.10.0"
  }
 },
 "nbformat": 4,
 "nbformat_minor": 5
}
