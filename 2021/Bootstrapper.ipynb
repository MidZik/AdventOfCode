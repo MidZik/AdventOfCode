{
 "cells": [
  {
   "cell_type": "code",
   "execution_count": 1,
   "metadata": {},
   "outputs": [
    {
     "name": "stdout",
     "output_type": "stream",
     "text": [
      "Created new notebook for YEAR 2021 DAY 25\n"
     ]
    }
   ],
   "source": [
    "from pathlib import Path\n",
    "import nbformat\n",
    "\n",
    "YEAR = 2021\n",
    "DAY = 25\n",
    "input_path = Path() / f\"Day{DAY}_Input.txt\"\n",
    "destination_path = Path() / f\"Day{DAY}.ipynb\"\n",
    "\n",
    "def create_part_cells(part):\n",
    "    return (nbformat.v4.new_markdown_cell(f\"# Part {part}\"),\n",
    "        nbformat.v4.new_code_cell(f'''# run to solve part {part}\n",
    "\n",
    "def part_{part}(aoc_input):\n",
    "    lines = aoc_input.splitlines()\n",
    "    ints = utils.extract_ints(aoc_input)\n",
    "    int_lines = utils.extract_int_lines(lines)\n",
    "    # matches = re.findall(r\"(\\d+),(\\d+) -> (\\d+),(\\d+)\", aoc_input)\n",
    "    # maze_array, maze_graph = utils.extract_maze(aoc_input, empty_cell=\".\", largest_component=False)\n",
    "    for line in lines:\n",
    "        # a, b, c, d = re.match(r\"(\\d+),(\\d+) -> (\\d+),(\\d+)\", line).groups()\n",
    "        # a, *b = re.split(r\"\\W+\", line)\n",
    "        split_line = line.split()\n",
    "        match split_line:\n",
    "            case ['item', value]:\n",
    "                pass\n",
    "            case ['item2', *values]:\n",
    "                pass\n",
    "            case _:\n",
    "                pass\n",
    "\n",
    "part_{part}_test_answer = part_{part}(test_input)\n",
    "print(\"TEST RESULT: \", part_{part}_test_answer)\n",
    "part_{part}_answer = part_{part}(aoc.get_input({YEAR}, {DAY}))\n",
    "print(\"ACTUAL RESULT: \", part_{part}_answer)'''), nbformat.v4.new_code_cell(f'''# run to submit part {part}\n",
    "\n",
    "aoc.submit_answer({YEAR}, {DAY}, {part}, part_{part}_answer)'''))\n",
    "\n",
    "if not destination_path.exists():\n",
    "    new_nb = nbformat.v4.new_notebook()\n",
    "    new_nb.cells = [nbformat.v4.new_code_cell(f'''import aoc\n",
    "import cmath\n",
    "import collections\n",
    "from collections import defaultdict\n",
    "from functools import cache, reduce\n",
    "import itertools as it\n",
    "import math\n",
    "import more_itertools as mit\n",
    "import networkx as nx\n",
    "import numpy as np\n",
    "import operator as op\n",
    "import pandas as pd\n",
    "import re\n",
    "import statistics\n",
    "import utils'''),\n",
    "                    nbformat.v4.new_code_cell('''test_input=\"\"\"\"\"\"'''),\n",
    "                   *create_part_cells(1),\n",
    "                   *create_part_cells(2)]\n",
    "    nbformat.write(new_nb, destination_path)\n",
    "    print(f\"Created new notebook for YEAR {YEAR} DAY {DAY}\")\n",
    "else:\n",
    "    print(f\"notebook already exists for YEAR {YEAR} DAY {DAY}\")"
   ]
  },
  {
   "cell_type": "code",
   "execution_count": 5,
   "metadata": {
    "scrolled": true
   },
   "outputs": [
    {
     "name": "stdout",
     "output_type": "stream",
     "text": [
      "None\n"
     ]
    }
   ],
   "source": [
    "import aoc\n",
    "import cmath\n",
    "import collections\n",
    "from collections import defaultdict\n",
    "from functools import cache, reduce\n",
    "import itertools as it\n",
    "import math\n",
    "import more_itertools as mit\n",
    "import networkx as nx\n",
    "import numpy as np\n",
    "import operator as op\n",
    "import pandas as pd\n",
    "import re\n",
    "import utils\n",
    "\n",
    "aoc_input = \"\"\"0,9 -> 5,9\n",
    "8,0 -> 0,8\n",
    "9,4 -> 3,4\n",
    "2,2 -> 2,1\n",
    "7,0 -> 7,4\n",
    "6,4 -> 2,0\n",
    "0,9 -> 2,9\n",
    "3,4 -> 1,4\n",
    "0,0 -> 8,8\n",
    "5,5 -> 8,2\"\"\"\n",
    "\n",
    "def part_x(aoc_input):\n",
    "    lines = aoc_input.splitlines()\n",
    "    ints = utils.extract_ints(aoc_input)\n",
    "    int_lines = utils.extract_int_lines(lines)\n",
    "    matches = re.findall(r\"(\\d+),(\\d+) -> (\\d+),(\\d+)\", aoc_input)\n",
    "    maze_array, maze_graph = utils.extract_maze(aoc_input, empty_cell=\".\", largest_component=False)\n",
    "    for line in lines:\n",
    "        a, b, c, d = re.match(r\"(\\d+),(\\d+) -> (\\d+),(\\d+)\", line).groups()\n",
    "        a, *b = re.split(r\"\\W+\", line)\n",
    "        split_line = line.split()\n",
    "        match split_line:\n",
    "            case ['item', value]:\n",
    "                pass\n",
    "            case ['item2', *values]:\n",
    "                pass\n",
    "            case _:\n",
    "                pass\n",
    "\n",
    "print(part_x(aoc_input))"
   ]
  },
  {
   "cell_type": "code",
   "execution_count": 21,
   "metadata": {},
   "outputs": [
    {
     "name": "stdout",
     "output_type": "stream",
     "text": [
      "aaa ['b']\n",
      "bb ['aaaa', 'b']\n",
      "abc ['aabc', 'bdb', 'dff']\n",
      "bbbddf ['ffff']\n"
     ]
    }
   ],
   "source": [
    "import re\n",
    "aoc_input = \"\"\"aaa: b\n",
    "bb: aaaa b\n",
    "abc: aabc bdb dff\n",
    "bbbddf: ffff\"\"\"\n",
    "for line in aoc_input.splitlines():\n",
    "    a, *b = re.split(r\"\\W+\", line)\n",
    "    print(a, b)"
   ]
  },
  {
   "cell_type": "code",
   "execution_count": 5,
   "metadata": {},
   "outputs": [
    {
     "name": "stdout",
     "output_type": "stream",
     "text": [
      "0 9 5 9\n",
      "8 0 0 8\n",
      "9 4 3 4\n",
      "2 2 2 1\n",
      "7 0 7 4\n",
      "6 4 2 0\n",
      "0 9 2 9\n",
      "3 4 1 4\n",
      "0 0 8 8\n",
      "5 5 8 2\n"
     ]
    },
    {
     "data": {
      "text/plain": [
       "array([[0, 9, 5, 9],\n",
       "       [8, 0, 0, 8],\n",
       "       [9, 4, 3, 4],\n",
       "       [2, 2, 2, 1],\n",
       "       [7, 0, 7, 4],\n",
       "       [6, 4, 2, 0],\n",
       "       [0, 9, 2, 9],\n",
       "       [3, 4, 1, 4],\n",
       "       [0, 0, 8, 8],\n",
       "       [5, 5, 8, 2]])"
      ]
     },
     "execution_count": 5,
     "metadata": {},
     "output_type": "execute_result"
    }
   ],
   "source": [
    "import utils\n",
    "import numpy as np\n",
    "aoc_input = \"\"\"0,9 -> 5,9\n",
    "8,0 -> 0,8\n",
    "9,4 -> 3,4\n",
    "2,2 -> 2,1\n",
    "7,0 -> 7,4\n",
    "6,4 -> 2,0\n",
    "0,9 -> 2,9\n",
    "3,4 -> 1,4\n",
    "0,0 -> 8,8\n",
    "5,5 -> 8,2\"\"\"\n",
    "lines = utils.extract_line_ints(aoc_input.splitlines())\n",
    "for a, b, c, d in lines:\n",
    "    print(a, b, c, d)\n",
    "\n",
    "np.array(lines)"
   ]
  },
  {
   "cell_type": "code",
   "execution_count": 21,
   "metadata": {},
   "outputs": [
    {
     "data": {
      "text/plain": [
       "'4m 54s '"
      ]
     },
     "execution_count": 21,
     "metadata": {},
     "output_type": "execute_result"
    }
   ],
   "source": []
  },
  {
   "cell_type": "code",
   "execution_count": null,
   "metadata": {},
   "outputs": [],
   "source": []
  }
 ],
 "metadata": {
  "kernelspec": {
   "display_name": "Python 3 (ipykernel)",
   "language": "python",
   "name": "python3"
  },
  "language_info": {
   "codemirror_mode": {
    "name": "ipython",
    "version": 3
   },
   "file_extension": ".py",
   "mimetype": "text/x-python",
   "name": "python",
   "nbconvert_exporter": "python",
   "pygments_lexer": "ipython3",
   "version": "3.10.0"
  }
 },
 "nbformat": 4,
 "nbformat_minor": 4
}
