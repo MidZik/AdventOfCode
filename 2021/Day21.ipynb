{
 "cells": [
  {
   "cell_type": "code",
   "execution_count": 1,
   "id": "faafa4bb",
   "metadata": {},
   "outputs": [],
   "source": [
    "import aoc\n",
    "import cmath\n",
    "import collections\n",
    "from collections import defaultdict\n",
    "from functools import cache, reduce\n",
    "import itertools as it\n",
    "import math\n",
    "import more_itertools as mit\n",
    "import networkx as nx\n",
    "import numpy as np\n",
    "import operator as op\n",
    "import pandas as pd\n",
    "import re\n",
    "import statistics\n",
    "import utils"
   ]
  },
  {
   "cell_type": "code",
   "execution_count": 6,
   "id": "f28a7995",
   "metadata": {},
   "outputs": [],
   "source": [
    "test_input=\"\"\"Player 1 starting position: 4\n",
    "Player 2 starting position: 8\"\"\""
   ]
  },
  {
   "cell_type": "markdown",
   "id": "a1ab5632",
   "metadata": {},
   "source": [
    "# Part 1"
   ]
  },
  {
   "cell_type": "code",
   "execution_count": 13,
   "id": "a79a6aa6",
   "metadata": {},
   "outputs": [
    {
     "name": "stdout",
     "output_type": "stream",
     "text": [
      "TEST RESULT:  739785\n",
      "ACTUAL RESULT:  684495\n"
     ]
    }
   ],
   "source": [
    "# run to solve part 1\n",
    "\n",
    "from random import randint\n",
    "\n",
    "def die():\n",
    "    i = 0\n",
    "    while True:\n",
    "        yield (i % 100) + 1, i\n",
    "        i += 1\n",
    "\n",
    "def part_1(aoc_input):\n",
    "    matches = re.findall(r\"(\\d+)\", aoc_input)\n",
    "    _, p1s,_,  p2s = map(int, matches)\n",
    "    p1s -= 1\n",
    "    p2s -= 1\n",
    "    p1score = 0\n",
    "    p2score = 0\n",
    "    d = die()\n",
    "    p1 = True\n",
    "    while True:\n",
    "        rolls = [next(d)[0] for _ in range(3)]\n",
    "        if p1:\n",
    "            p1s = (p1s + sum(rolls)) % 10\n",
    "            p1score += p1s + 1\n",
    "            if p1score >= 1000:\n",
    "                return p2score * next(d)[1]\n",
    "        else:\n",
    "            p2s = (p2s + sum(rolls)) % 10\n",
    "            p2score += p2s + 1\n",
    "            if p2score >= 1000:\n",
    "                return p1score * next(d)[1]\n",
    "        p1 = not p1\n",
    "\n",
    "part_1_test_answer = part_1(test_input)\n",
    "print(\"TEST RESULT: \", part_1_test_answer)\n",
    "part_1_answer = part_1(aoc.get_input(2021, 21))\n",
    "print(\"ACTUAL RESULT: \", part_1_answer)"
   ]
  },
  {
   "cell_type": "code",
   "execution_count": 14,
   "id": "6946dffe",
   "metadata": {},
   "outputs": [
    {
     "name": "stdout",
     "output_type": "stream",
     "text": [
      "Submitting for YEAR 2021, DAY 21, LEVEL 1: 684495... Correct!\n"
     ]
    }
   ],
   "source": [
    "# run to submit part 1\n",
    "\n",
    "aoc.submit_answer(2021, 21, 1, part_1_answer)"
   ]
  },
  {
   "cell_type": "markdown",
   "id": "2a3dee5b",
   "metadata": {},
   "source": [
    "# Part 2"
   ]
  },
  {
   "cell_type": "code",
   "execution_count": 32,
   "id": "8fcc8085",
   "metadata": {},
   "outputs": [
    {
     "name": "stdout",
     "output_type": "stream",
     "text": [
      "Counter({6: 7, 5: 6, 7: 6, 4: 3, 8: 3, 3: 1, 9: 1})\n",
      "[Counter({(4, 0, 8, 0): 1})]\n",
      "27\n",
      "729\n",
      "19683\n",
      "531441\n",
      "10989675\n",
      "270641475\n",
      "2827292299\n",
      "40008556150\n",
      "262328727350\n",
      "1456989550283\n",
      "4196867072357\n",
      "10471027324795\n",
      "8148345518170\n",
      "4911026081676\n",
      "682163457096\n",
      "70640451728\n",
      "433060236\n",
      "2377026\n",
      "0\n",
      "TEST RESULT:  444356092776315\n",
      "[Counter({(7, 0, 1, 0): 1})]\n",
      "27\n",
      "729\n",
      "19683\n",
      "531441\n",
      "13326849\n",
      "287669816\n",
      "4153029384\n",
      "43106154189\n",
      "255419794427\n",
      "1093095572464\n",
      "3033461715872\n",
      "3567465582406\n",
      "2476579361520\n",
      "632836899600\n",
      "79460235565\n",
      "1675415407\n",
      "11200941\n",
      "0\n",
      "ACTUAL RESULT:  152587196649184\n"
     ]
    }
   ],
   "source": [
    "# run to solve part 2\n",
    "from collections import Counter\n",
    "\n",
    "faces = 1, 2, 3\n",
    "rolls = [tuple(x) for x in it.product(faces, repeat=3)]\n",
    "spaces = [sum(x) for x in rolls]\n",
    "spaces_counter = Counter(spaces)\n",
    "#print(rolls)\n",
    "print(spaces_counter)\n",
    "\n",
    "def part_2(aoc_input):\n",
    "    matches = re.findall(r\"(\\d+)\", aoc_input)\n",
    "    _, p1s, _, p2s = map(int, matches)\n",
    "    \n",
    "    scores = [Counter({(p1s, 0, p2s, 0): 1})]\n",
    "    print(scores)\n",
    "    \n",
    "    p1 = True\n",
    "    wins = [0, 0]\n",
    "    \n",
    "    while True:\n",
    "        new_turn = Counter()\n",
    "        for (p1space, p1score, p2space, p2score), count in scores[-1].items():\n",
    "            for move, move_c in spaces_counter.items():\n",
    "                if p1:\n",
    "                    new_space = (p1space - 1 + move) % 10 + 1\n",
    "                    new_score = p1score + new_space\n",
    "                    if new_score >= 21:\n",
    "                        wins[p1] += count * move_c\n",
    "                    else:\n",
    "                        new_turn[new_space, new_score, p2space, p2score] += count * move_c\n",
    "                else:\n",
    "                    new_space = (p2space - 1 + move) % 10 + 1\n",
    "                    new_score = p2score + new_space\n",
    "                    if new_score >= 21:\n",
    "                        wins[p1] += count * move_c\n",
    "                    else:\n",
    "                        new_turn[p1space, p1score, new_space, new_score] += count * move_c\n",
    "        scores.append(new_turn)\n",
    "        #print(new_turn)\n",
    "        print(new_turn.total())\n",
    "        if not new_turn:\n",
    "            break\n",
    "        p1 = not p1\n",
    "    return max(wins)\n",
    "\n",
    "part_2_test_answer = part_2(test_input)\n",
    "print(\"TEST RESULT: \", part_2_test_answer)\n",
    "part_2_answer = part_2(aoc.get_input(2021, 21))\n",
    "print(\"ACTUAL RESULT: \", part_2_answer)"
   ]
  },
  {
   "cell_type": "code",
   "execution_count": 31,
   "id": "f0769716",
   "metadata": {},
   "outputs": [
    {
     "name": "stdout",
     "output_type": "stream",
     "text": [
      "Submitting for YEAR 2021, DAY 21, LEVEL 2: 152587196649184... Correct!\n"
     ]
    }
   ],
   "source": [
    "# run to submit part 2\n",
    "\n",
    "aoc.submit_answer(2021, 21, 2, part_2_answer)"
   ]
  },
  {
   "cell_type": "code",
   "execution_count": null,
   "id": "a723c213",
   "metadata": {},
   "outputs": [],
   "source": []
  }
 ],
 "metadata": {
  "kernelspec": {
   "display_name": "Python 3 (ipykernel)",
   "language": "python",
   "name": "python3"
  },
  "language_info": {
   "codemirror_mode": {
    "name": "ipython",
    "version": 3
   },
   "file_extension": ".py",
   "mimetype": "text/x-python",
   "name": "python",
   "nbconvert_exporter": "python",
   "pygments_lexer": "ipython3",
   "version": "3.10.0"
  }
 },
 "nbformat": 4,
 "nbformat_minor": 5
}
