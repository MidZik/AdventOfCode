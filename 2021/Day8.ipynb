{
 "cells": [
  {
   "cell_type": "code",
   "execution_count": 2,
   "id": "82763ed7",
   "metadata": {},
   "outputs": [],
   "source": [
    "import aoc\n",
    "import cmath\n",
    "import collections\n",
    "from collections import defaultdict\n",
    "from functools import cache, reduce\n",
    "import itertools as it\n",
    "import math\n",
    "import more_itertools as mit\n",
    "import networkx as nx\n",
    "import numpy as np\n",
    "import operator as op\n",
    "import pandas as pd\n",
    "import re\n",
    "import statistics\n",
    "import utils"
   ]
  },
  {
   "cell_type": "code",
   "execution_count": null,
   "id": "b1f44674",
   "metadata": {},
   "outputs": [],
   "source": []
  },
  {
   "cell_type": "markdown",
   "id": "7f525aa8",
   "metadata": {},
   "source": [
    "# Part 1"
   ]
  },
  {
   "cell_type": "code",
   "execution_count": 46,
   "id": "3eedee8f",
   "metadata": {},
   "outputs": [
    {
     "name": "stdout",
     "output_type": "stream",
     "text": [
      "479\n"
     ]
    }
   ],
   "source": [
    "# run to solve part 1\n",
    "\n",
    "def part_1(aoc_input):\n",
    "    lines = aoc_input.splitlines()\n",
    "    count = 0\n",
    "    for line in lines:\n",
    "        a, b = line.split(\"|\")\n",
    "        matches = re.findall(r\"(\\w+)\", b)\n",
    "        for match in matches:\n",
    "            segments = len(match)\n",
    "            if len(match) in (2, 3, 4, 7):\n",
    "                count += 1\n",
    "    return count\n",
    "\n",
    "part_1_answer = part_1(aoc.get_input(2021, 8))\n",
    "print(part_1_answer)"
   ]
  },
  {
   "cell_type": "code",
   "execution_count": 10,
   "id": "62a9dbf3",
   "metadata": {},
   "outputs": [
    {
     "name": "stdout",
     "output_type": "stream",
     "text": [
      "Submitting for YEAR 2021, DAY 8, LEVEL 1: 479... Correct!\n"
     ]
    }
   ],
   "source": [
    "# run to submit part 1\n",
    "\n",
    "aoc.submit_answer(2021, 8, 1, part_1_answer)"
   ]
  },
  {
   "cell_type": "markdown",
   "id": "efa20706",
   "metadata": {},
   "source": [
    "# Part 2"
   ]
  },
  {
   "cell_type": "code",
   "execution_count": 4,
   "id": "bd3f1da1",
   "metadata": {
    "scrolled": true
   },
   "outputs": [
    {
     "name": "stdout",
     "output_type": "stream",
     "text": [
      "1041746\n"
     ]
    }
   ],
   "source": [
    "# run to solve part 2\n",
    "\n",
    "def part_2(aoc_input):\n",
    "    lines = aoc_input.splitlines()\n",
    "    count = 0\n",
    "    for line in lines:\n",
    "        a, b = line.split(\"|\")\n",
    "        a_matches = re.findall(r\"(\\w+)\",a)\n",
    "        b_matches = re.findall(r\"(\\w+)\", b)\n",
    "        sets = {}\n",
    "        for m in a_matches:\n",
    "            m = set(m)\n",
    "            match len(m):\n",
    "                case 2:\n",
    "                    sets[1] = m\n",
    "                case 3:\n",
    "                    sets[7] = m\n",
    "                case 4:\n",
    "                    sets[4] = m\n",
    "                case 7:\n",
    "                    sets[8] = m\n",
    "        for m in a_matches:\n",
    "            m = set(m)\n",
    "            match len(m):\n",
    "                case 5:\n",
    "                    if m > sets[1]:\n",
    "                        sets[3] = m\n",
    "                case 6:\n",
    "                    if not m > sets[1]:\n",
    "                        sets[6] = m\n",
    "                    elif m > sets[4]:\n",
    "                        sets[9] = m\n",
    "                    else:\n",
    "                        sets[0] = m\n",
    "        for m in a_matches:\n",
    "            m = set(m)\n",
    "            if len(m) == 5 and m != sets[3]:\n",
    "                if m > (sets[6] & sets[1]):\n",
    "                    sets[5] = m\n",
    "                else:\n",
    "                    sets[2] = m\n",
    "        num = \"\"\n",
    "        for m in b_matches:\n",
    "            m = set(m)\n",
    "            for k, v in sets.items():\n",
    "                if m == v:\n",
    "                    num += str(k)\n",
    "        num = int(num)\n",
    "        count += num\n",
    "    return count\n",
    "\n",
    "part_2_answer = part_2(aoc.get_input(2021, 8))\n",
    "print(part_2_answer)"
   ]
  },
  {
   "cell_type": "code",
   "execution_count": 43,
   "id": "ee4f9475",
   "metadata": {},
   "outputs": [
    {
     "name": "stdout",
     "output_type": "stream",
     "text": [
      "Submitting for YEAR 2021, DAY 8, LEVEL 2: 1041746... Correct!\n"
     ]
    }
   ],
   "source": [
    "# run to submit part 2\n",
    "\n",
    "aoc.submit_answer(2021, 8, 2, part_2_answer)"
   ]
  },
  {
   "cell_type": "code",
   "execution_count": null,
   "id": "cef3e57d",
   "metadata": {},
   "outputs": [],
   "source": []
  }
 ],
 "metadata": {
  "kernelspec": {
   "display_name": "Python 3 (ipykernel)",
   "language": "python",
   "name": "python3"
  },
  "language_info": {
   "codemirror_mode": {
    "name": "ipython",
    "version": 3
   },
   "file_extension": ".py",
   "mimetype": "text/x-python",
   "name": "python",
   "nbconvert_exporter": "python",
   "pygments_lexer": "ipython3",
   "version": "3.10.0"
  }
 },
 "nbformat": 4,
 "nbformat_minor": 5
}
