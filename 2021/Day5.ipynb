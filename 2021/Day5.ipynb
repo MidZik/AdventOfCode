{
 "cells": [
  {
   "cell_type": "code",
   "execution_count": 8,
   "id": "b04f5651",
   "metadata": {},
   "outputs": [],
   "source": [
    "import aoc\n",
    "import cmath\n",
    "from itertools import *\n",
    "import math\n",
    "from more_itertools import *\n",
    "import numpy as np\n",
    "import operator\n",
    "import pandas as pd\n",
    "import utils\n",
    "import re"
   ]
  },
  {
   "cell_type": "code",
   "execution_count": 4,
   "id": "380e0cf9",
   "metadata": {},
   "outputs": [
    {
     "data": {
      "text/plain": [
       "array([[ 1.,  2.,  3.,  4.,  5.],\n",
       "       [ 6.,  7.,  8.,  9., 10.],\n",
       "       [11., 12., 13., 14., 15.]])"
      ]
     },
     "execution_count": 4,
     "metadata": {},
     "output_type": "execute_result"
    }
   ],
   "source": [
    "np.loadtxt(['1 2 3 4 5', '6 7 8 9 10', '', '11 12 13 14 15'])"
   ]
  },
  {
   "cell_type": "markdown",
   "id": "8780ed89",
   "metadata": {},
   "source": [
    "# Part 1"
   ]
  },
  {
   "cell_type": "code",
   "execution_count": 38,
   "id": "ec73ae16",
   "metadata": {},
   "outputs": [
    {
     "name": "stdout",
     "output_type": "stream",
     "text": [
      "7269\n"
     ]
    }
   ],
   "source": [
    "# run to solve part 1\n",
    "\n",
    "def part_1(input):\n",
    "    from collections import defaultdict\n",
    "    lines = input.splitlines()\n",
    "    walls = defaultdict(int)\n",
    "    for line in lines:\n",
    "        split_line = re.split(' -> ', line)\n",
    "        match split_line:\n",
    "            case [a, b]:\n",
    "                ax, ay = map(int, a.split(','))\n",
    "                bx, by = map(int, b.split(','))\n",
    "                if ax > bx:\n",
    "                    ax, bx = bx, ax\n",
    "                if ay > by:\n",
    "                    ay, by = by, ay\n",
    "                if ay == by:\n",
    "                    points = [(x, ay) for x in range(ax, bx + 1)]\n",
    "                elif ax == bx:\n",
    "                    points = [(ax, y) for y in range(ay, by + 1)]\n",
    "                else:\n",
    "                    points = []\n",
    "                for point in points:\n",
    "                    walls[point] += 1\n",
    "    return sum(1 for value in walls.values() if value > 1)\n",
    "\n",
    "part_1_answer = part_1(aoc.get_input(2021, 5))\n",
    "print(part_1_answer)"
   ]
  },
  {
   "cell_type": "code",
   "execution_count": 42,
   "id": "d7c6d758",
   "metadata": {},
   "outputs": [
    {
     "name": "stdout",
     "output_type": "stream",
     "text": [
      "Submitting for YEAR 2021, DAY 5, LEVEL 1: 7269... Correct!\n"
     ]
    }
   ],
   "source": [
    "# run to submit part 1\n",
    "\n",
    "aoc.submit_answer(2021, 5, 1, part_1_answer)"
   ]
  },
  {
   "cell_type": "markdown",
   "id": "d67b3f4c",
   "metadata": {},
   "source": [
    "# Part 2"
   ]
  },
  {
   "cell_type": "code",
   "execution_count": 45,
   "id": "ac03abbb",
   "metadata": {},
   "outputs": [
    {
     "name": "stdout",
     "output_type": "stream",
     "text": [
      "21140\n"
     ]
    }
   ],
   "source": [
    "# run to solve part 2\n",
    "\n",
    "def part_2(input):\n",
    "    from collections import defaultdict\n",
    "    lines = input.splitlines()\n",
    "    walls = defaultdict(int)\n",
    "    for line in lines:\n",
    "        split_line = re.split(' -> ', line)\n",
    "        match split_line:\n",
    "            case [a, b]:\n",
    "                ax, ay = map(int, a.split(','))\n",
    "                bx, by = map(int, b.split(','))\n",
    "                if ax <= bx:\n",
    "                    x_range = range(ax, bx + 1)\n",
    "                else:\n",
    "                    x_range = range(ax, bx - 1, -1)\n",
    "                if ay <= by:\n",
    "                    y_range = range(ay, by + 1)\n",
    "                else:\n",
    "                    y_range = range(ay, by - 1, -1)\n",
    "                if ay == by:\n",
    "                    points = [(x, ay) for x in x_range]\n",
    "                elif ax == bx:\n",
    "                    points = [(ax, y) for y in y_range]\n",
    "                else:\n",
    "                    points = [(x, y) for (x, y) in zip(x_range, y_range)]\n",
    "                for point in points:\n",
    "                    walls[point] += 1\n",
    "    return sum(1 for value in walls.values() if value > 1)\n",
    "\n",
    "part_2_answer = part_2(aoc.get_input(2021, 5))\n",
    "print(part_2_answer)"
   ]
  },
  {
   "cell_type": "code",
   "execution_count": 46,
   "id": "46f81767",
   "metadata": {},
   "outputs": [
    {
     "name": "stdout",
     "output_type": "stream",
     "text": [
      "Submitting for YEAR 2021, DAY 5, LEVEL 2: 21140... Correct!\n"
     ]
    }
   ],
   "source": [
    "# run to submit part 2\n",
    "\n",
    "aoc.submit_answer(2021, 5, 2, part_2_answer)"
   ]
  },
  {
   "cell_type": "code",
   "execution_count": null,
   "id": "71805b81",
   "metadata": {},
   "outputs": [],
   "source": []
  }
 ],
 "metadata": {
  "kernelspec": {
   "display_name": "Python 3 (ipykernel)",
   "language": "python",
   "name": "python3"
  },
  "language_info": {
   "codemirror_mode": {
    "name": "ipython",
    "version": 3
   },
   "file_extension": ".py",
   "mimetype": "text/x-python",
   "name": "python",
   "nbconvert_exporter": "python",
   "pygments_lexer": "ipython3",
   "version": "3.10.0"
  }
 },
 "nbformat": 4,
 "nbformat_minor": 5
}
