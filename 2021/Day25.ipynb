{
 "cells": [
  {
   "cell_type": "code",
   "execution_count": 1,
   "id": "26e31168",
   "metadata": {},
   "outputs": [],
   "source": [
    "import aoc\n",
    "import cmath\n",
    "import collections\n",
    "from collections import defaultdict\n",
    "from functools import cache, reduce\n",
    "import itertools as it\n",
    "import math\n",
    "import more_itertools as mit\n",
    "import networkx as nx\n",
    "import numpy as np\n",
    "import operator as op\n",
    "import pandas as pd\n",
    "import re\n",
    "import statistics\n",
    "import utils"
   ]
  },
  {
   "cell_type": "code",
   "execution_count": 39,
   "id": "9a61ef50",
   "metadata": {},
   "outputs": [],
   "source": [
    "test_input=\"\"\"v...>>.vv>\n",
    ".vv>>.vv..\n",
    ">>.>v>...v\n",
    ">>v>>.>.v.\n",
    "v>v.vv.v..\n",
    ">.>>..v...\n",
    ".vv..>.>v.\n",
    "v.v..>>v.v\n",
    "....v..v.>\"\"\""
   ]
  },
  {
   "cell_type": "markdown",
   "id": "5006ed24",
   "metadata": {},
   "source": [
    "# Part 1"
   ]
  },
  {
   "cell_type": "code",
   "execution_count": 44,
   "id": "e8d02e15",
   "metadata": {},
   "outputs": [
    {
     "name": "stdout",
     "output_type": "stream",
     "text": [
      "TEST RESULT:  58\n",
      "ACTUAL RESULT:  486\n"
     ]
    }
   ],
   "source": [
    "# run to solve part 1\n",
    "\n",
    "m = {\n",
    "    '.': 0,\n",
    "    'v': 1,\n",
    "    '>': 2\n",
    "}\n",
    "\n",
    "rm = {\n",
    "    0: '.',\n",
    "    1: 'v',\n",
    "    2: '>'\n",
    "}\n",
    "\n",
    "def step(arr):\n",
    "    new_arr = np.array(arr)\n",
    "    height, width = arr.shape\n",
    "    for x in range(width):\n",
    "        for y in range(height):\n",
    "            new_x, new_y = (x + 1) % width, y\n",
    "            if arr[y, x] == 2 and arr[new_y, new_x] == 0:\n",
    "                new_arr[new_y, new_x] = 2\n",
    "                new_arr[y, x] = 0\n",
    "    arr = new_arr\n",
    "    new_arr = np.array(arr)\n",
    "    for x in range(width):\n",
    "        for y in range(height):\n",
    "            new_x, new_y = x, (y + 1) % height\n",
    "            if arr[y, x] == 1 and arr[new_y, new_x] == 0:\n",
    "                new_arr[new_y, new_x] = 1\n",
    "                new_arr[y, x] = 0\n",
    "    return new_arr\n",
    "\n",
    "def p(arr):\n",
    "    height, width = arr.shape\n",
    "    for y in range(height):\n",
    "        for x in range(width):\n",
    "            print(rm[arr[y, x]], end='')\n",
    "        print()\n",
    "    print()\n",
    "            \n",
    "\n",
    "def part_1(aoc_input):\n",
    "    lines = aoc_input.splitlines()\n",
    "    width = len(lines[0])\n",
    "    height = len(lines)\n",
    "    matches = re.findall(r\"\\S\", aoc_input)\n",
    "    arr = np.array([m[v] for v in matches]).reshape((height, width))\n",
    "    #print(arr)\n",
    "    #print(arr[0, 3])\n",
    "    s = 1\n",
    "    while True:\n",
    "        #p(arr)\n",
    "        next_arr = step(arr)\n",
    "        if np.all(next_arr == arr):\n",
    "            break\n",
    "        s += 1\n",
    "        arr = next_arr\n",
    "    #p(arr)\n",
    "    return s\n",
    "\n",
    "part_1_test_answer = part_1(test_input)\n",
    "print(\"TEST RESULT: \", part_1_test_answer)\n",
    "part_1_answer = part_1(aoc.get_input(2021, 25))\n",
    "print(\"ACTUAL RESULT: \", part_1_answer)"
   ]
  },
  {
   "cell_type": "code",
   "execution_count": 45,
   "id": "a3c3b67a",
   "metadata": {
    "scrolled": true
   },
   "outputs": [
    {
     "name": "stdout",
     "output_type": "stream",
     "text": [
      "Submitting for YEAR 2021, DAY 25, LEVEL 1: 486... Correct!\n"
     ]
    }
   ],
   "source": [
    "# run to submit part 1\n",
    "\n",
    "aoc.submit_answer(2021, 25, 1, part_1_answer)"
   ]
  },
  {
   "cell_type": "markdown",
   "id": "747b8e01",
   "metadata": {},
   "source": [
    "# Part 2"
   ]
  },
  {
   "cell_type": "code",
   "execution_count": null,
   "id": "cb1ccab8",
   "metadata": {},
   "outputs": [],
   "source": [
    "# run to solve part 2\n",
    "\n",
    "def part_2(aoc_input):\n",
    "    lines = aoc_input.splitlines()\n",
    "    ints = utils.extract_ints(aoc_input)\n",
    "    int_lines = utils.extract_int_lines(lines)\n",
    "    # matches = re.findall(r\"(\\d+),(\\d+) -> (\\d+),(\\d+)\", aoc_input)\n",
    "    # maze_array, maze_graph = utils.extract_maze(aoc_input, empty_cell=\".\", largest_component=False)\n",
    "    for line in lines:\n",
    "        # a, b, c, d = re.match(r\"(\\d+),(\\d+) -> (\\d+),(\\d+)\", line).groups()\n",
    "        # a, *b = re.split(r\"\\W+\", line)\n",
    "        split_line = line.split()\n",
    "        match split_line:\n",
    "            case ['item', value]:\n",
    "                pass\n",
    "            case ['item2', *values]:\n",
    "                pass\n",
    "            case _:\n",
    "                pass\n",
    "\n",
    "part_2_test_answer = part_2(test_input)\n",
    "print(\"TEST RESULT: \", part_2_test_answer)\n",
    "part_2_answer = part_2(aoc.get_input(2021, 25))\n",
    "print(\"ACTUAL RESULT: \", part_2_answer)"
   ]
  },
  {
   "cell_type": "code",
   "execution_count": null,
   "id": "de723e35",
   "metadata": {},
   "outputs": [],
   "source": [
    "# run to submit part 2\n",
    "\n",
    "aoc.submit_answer(2021, 25, 2, part_2_answer)"
   ]
  }
 ],
 "metadata": {
  "kernelspec": {
   "display_name": "Python 3 (ipykernel)",
   "language": "python",
   "name": "python3"
  },
  "language_info": {
   "codemirror_mode": {
    "name": "ipython",
    "version": 3
   },
   "file_extension": ".py",
   "mimetype": "text/x-python",
   "name": "python",
   "nbconvert_exporter": "python",
   "pygments_lexer": "ipython3",
   "version": "3.10.0"
  }
 },
 "nbformat": 4,
 "nbformat_minor": 5
}
