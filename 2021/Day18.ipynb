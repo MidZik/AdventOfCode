{
 "cells": [
  {
   "cell_type": "code",
   "execution_count": 18,
   "id": "ec874750",
   "metadata": {},
   "outputs": [],
   "source": [
    "import aoc\n",
    "import cmath\n",
    "import collections\n",
    "from collections import defaultdict\n",
    "from functools import cache, reduce\n",
    "import itertools as it\n",
    "import math\n",
    "import more_itertools as mit\n",
    "import networkx as nx\n",
    "import numpy as np\n",
    "import operator as op\n",
    "import pandas as pd\n",
    "import re\n",
    "import statistics\n",
    "import utils"
   ]
  },
  {
   "cell_type": "code",
   "execution_count": 73,
   "id": "88997b1d",
   "metadata": {},
   "outputs": [],
   "source": [
    "test_input=\"\"\"[[[0,[5,8]],[[1,7],[9,6]]],[[4,[1,2]],[[1,4],2]]]\n",
    "[[[5,[2,8]],4],[5,[[9,9],0]]]\n",
    "[6,[[[6,2],[5,6]],[[7,6],[4,7]]]]\n",
    "[[[6,[0,7]],[0,9]],[4,[9,[9,0]]]]\n",
    "[[[7,[6,4]],[3,[1,3]]],[[[5,5],1],9]]\n",
    "[[6,[[7,3],[3,2]]],[[[3,8],[5,7]],4]]\n",
    "[[[[5,4],[7,7]],8],[[8,3],8]]\n",
    "[[9,3],[[9,9],[6,[4,9]]]]\n",
    "[[2,[[7,7],7]],[[5,8],[[9,3],[0,2]]]]\n",
    "[[[[5,2],5],[8,[3,7]]],[[5,[7,5]],[4,4]]]\"\"\""
   ]
  },
  {
   "cell_type": "markdown",
   "id": "2c99a8c9",
   "metadata": {},
   "source": [
    "# Part 1"
   ]
  },
  {
   "cell_type": "code",
   "execution_count": 74,
   "id": "840b518a",
   "metadata": {},
   "outputs": [
    {
     "name": "stdout",
     "output_type": "stream",
     "text": [
      "TEST RESULT:  4140\n",
      "ACTUAL RESULT:  3551\n"
     ]
    }
   ],
   "source": [
    "# run to solve part 1\n",
    "\n",
    "def to_num(num_str):\n",
    "    tokens = re.findall(r\"(\\d+|[\\[\\]])\", num_str)\n",
    "    depth = 0\n",
    "    num = []\n",
    "    for token in tokens:\n",
    "        match token:\n",
    "            case '[':\n",
    "                depth += 1\n",
    "            case ']':\n",
    "                depth -= 1\n",
    "            case n:\n",
    "                n = int(n)\n",
    "                num.append([n, depth])\n",
    "    return num\n",
    "\n",
    "def explode(num):\n",
    "    for i in range(len(num) - 1):\n",
    "        left = num[i - 1] if i > 0 else None\n",
    "        cur_left = num[i]\n",
    "        cur_right = num[i + 1]\n",
    "        right = num[i + 2] if i < len(num) - 2 else None\n",
    "        if cur_left[1] > 4 and cur_right[1] > 4:\n",
    "            if left:\n",
    "                left[0] += cur_left[0]\n",
    "            if right:\n",
    "                right[0] += cur_right[0]\n",
    "            del num[i:i+2]\n",
    "            num.insert(i, [0, cur_left[1] - 1])\n",
    "            return True\n",
    "    return False\n",
    "\n",
    "def split(num):\n",
    "    for i in range(len(num)):\n",
    "        cur = num[i]\n",
    "        val = cur[0]\n",
    "        depth = cur[1]\n",
    "        if val >= 10:\n",
    "            del num[i]\n",
    "            num.insert(i, [val // 2, depth + 1])\n",
    "            num.insert(i + 1, [val - (val // 2), depth + 1])\n",
    "            return True\n",
    "    return False\n",
    "\n",
    "def num_reduce(num):\n",
    "    #print(\"REDUCE\")\n",
    "    #print(num)\n",
    "    while True:\n",
    "        if explode(num):\n",
    "            #print(\"EXPLODE\")\n",
    "            #print(num)\n",
    "            continue\n",
    "        if split(num):\n",
    "            #print(\"SPLIT\")\n",
    "            #print(num)\n",
    "            continue\n",
    "        break\n",
    "    #print(\"========== DONE REDUCE ============\")\n",
    "    #print()\n",
    "    return num\n",
    "\n",
    "def add(num1, num2):\n",
    "    return num_reduce([[n, d + 1] for n, d in it.chain(num1, num2)])\n",
    "\n",
    "def magnitude(num):\n",
    "    stack = []\n",
    "    for n in num:\n",
    "        stack.append(n)\n",
    "        while len(stack) > 1:\n",
    "            left = stack[-2]\n",
    "            right = stack[-1]\n",
    "            if left[1] != right[1]:\n",
    "                break\n",
    "            else:\n",
    "                del stack[-2:]\n",
    "                stack.append([left[0] * 3 + right[0] * 2, left[1] - 1])\n",
    "    return stack[0][0]\n",
    "\n",
    "def part_1(aoc_input):\n",
    "    lines = aoc_input.splitlines()\n",
    "    nums = [num_reduce(to_num(line)) for line in lines]\n",
    "    result = reduce(add, nums)\n",
    "    return magnitude(result)\n",
    "\n",
    "part_1_test_answer = part_1(test_input)\n",
    "print(\"TEST RESULT: \", part_1_test_answer)\n",
    "part_1_answer = part_1(aoc.get_input(2021, 18))\n",
    "print(\"ACTUAL RESULT: \", part_1_answer)"
   ]
  },
  {
   "cell_type": "code",
   "execution_count": 65,
   "id": "bbe86ec4",
   "metadata": {},
   "outputs": [
    {
     "name": "stdout",
     "output_type": "stream",
     "text": [
      "Submitting for YEAR 2021, DAY 18, LEVEL 1: 3551... Correct!\n"
     ]
    }
   ],
   "source": [
    "# run to submit part 1\n",
    "\n",
    "aoc.submit_answer(2021, 18, 1, part_1_answer)"
   ]
  },
  {
   "cell_type": "markdown",
   "id": "0fe79209",
   "metadata": {},
   "source": [
    "# Part 2"
   ]
  },
  {
   "cell_type": "code",
   "execution_count": 75,
   "id": "e6b19d74",
   "metadata": {},
   "outputs": [
    {
     "name": "stdout",
     "output_type": "stream",
     "text": [
      "TEST RESULT:  3993\n",
      "ACTUAL RESULT:  4555\n"
     ]
    }
   ],
   "source": [
    "# run to solve part 2\n",
    "\n",
    "def part_2(aoc_input):\n",
    "    lines = aoc_input.splitlines()\n",
    "    nums = [num_reduce(to_num(line)) for line in lines]\n",
    "    results = []\n",
    "    for a, b in it.permutations(nums, 2):\n",
    "        results.append(magnitude(add(a, b)))\n",
    "    return max(results)\n",
    "\n",
    "part_2_test_answer = part_2(test_input)\n",
    "print(\"TEST RESULT: \", part_2_test_answer)\n",
    "part_2_answer = part_2(aoc.get_input(2021, 18))\n",
    "print(\"ACTUAL RESULT: \", part_2_answer)"
   ]
  },
  {
   "cell_type": "code",
   "execution_count": 72,
   "id": "7d03e16e",
   "metadata": {},
   "outputs": [
    {
     "name": "stdout",
     "output_type": "stream",
     "text": [
      "Submitting for YEAR 2021, DAY 18, LEVEL 2: 4555... Correct!\n"
     ]
    }
   ],
   "source": [
    "# run to submit part 2\n",
    "\n",
    "aoc.submit_answer(2021, 18, 2, part_2_answer)"
   ]
  },
  {
   "cell_type": "code",
   "execution_count": null,
   "id": "3debc793",
   "metadata": {},
   "outputs": [],
   "source": []
  }
 ],
 "metadata": {
  "kernelspec": {
   "display_name": "Python 3 (ipykernel)",
   "language": "python",
   "name": "python3"
  },
  "language_info": {
   "codemirror_mode": {
    "name": "ipython",
    "version": 3
   },
   "file_extension": ".py",
   "mimetype": "text/x-python",
   "name": "python",
   "nbconvert_exporter": "python",
   "pygments_lexer": "ipython3",
   "version": "3.10.0"
  }
 },
 "nbformat": 4,
 "nbformat_minor": 5
}
