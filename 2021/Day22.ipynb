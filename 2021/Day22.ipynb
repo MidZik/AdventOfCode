{
 "cells": [
  {
   "cell_type": "code",
   "execution_count": 1,
   "id": "166d5d1d",
   "metadata": {},
   "outputs": [],
   "source": [
    "import aoc\n",
    "import cmath\n",
    "import collections\n",
    "from collections import defaultdict\n",
    "from functools import cache, reduce\n",
    "import itertools as it\n",
    "import math\n",
    "import more_itertools as mit\n",
    "import networkx as nx\n",
    "import numpy as np\n",
    "import operator as op\n",
    "import pandas as pd\n",
    "import re\n",
    "import statistics\n",
    "import utils"
   ]
  },
  {
   "cell_type": "code",
   "execution_count": 36,
   "id": "6f1658b9",
   "metadata": {},
   "outputs": [],
   "source": [
    "test_input=\"\"\"on x=-5..47,y=-31..22,z=-19..33\n",
    "on x=-44..5,y=-27..21,z=-14..35\n",
    "on x=-49..-1,y=-11..42,z=-10..38\n",
    "on x=-20..34,y=-40..6,z=-44..1\n",
    "off x=26..39,y=40..50,z=-2..11\n",
    "on x=-41..5,y=-41..6,z=-36..8\n",
    "off x=-43..-33,y=-45..-28,z=7..25\n",
    "on x=-33..15,y=-32..19,z=-34..11\n",
    "off x=35..47,y=-46..-34,z=-11..5\n",
    "on x=-14..36,y=-6..44,z=-16..29\n",
    "on x=-57795..-6158,y=29564..72030,z=20435..90618\n",
    "on x=36731..105352,y=-21140..28532,z=16094..90401\n",
    "on x=30999..107136,y=-53464..15513,z=8553..71215\n",
    "on x=13528..83982,y=-99403..-27377,z=-24141..23996\n",
    "on x=-72682..-12347,y=18159..111354,z=7391..80950\n",
    "on x=-1060..80757,y=-65301..-20884,z=-103788..-16709\n",
    "on x=-83015..-9461,y=-72160..-8347,z=-81239..-26856\n",
    "on x=-52752..22273,y=-49450..9096,z=54442..119054\n",
    "on x=-29982..40483,y=-108474..-28371,z=-24328..38471\n",
    "on x=-4958..62750,y=40422..118853,z=-7672..65583\n",
    "on x=55694..108686,y=-43367..46958,z=-26781..48729\n",
    "on x=-98497..-18186,y=-63569..3412,z=1232..88485\n",
    "on x=-726..56291,y=-62629..13224,z=18033..85226\n",
    "on x=-110886..-34664,y=-81338..-8658,z=8914..63723\n",
    "on x=-55829..24974,y=-16897..54165,z=-121762..-28058\n",
    "on x=-65152..-11147,y=22489..91432,z=-58782..1780\n",
    "on x=-120100..-32970,y=-46592..27473,z=-11695..61039\n",
    "on x=-18631..37533,y=-124565..-50804,z=-35667..28308\n",
    "on x=-57817..18248,y=49321..117703,z=5745..55881\n",
    "on x=14781..98692,y=-1341..70827,z=15753..70151\n",
    "on x=-34419..55919,y=-19626..40991,z=39015..114138\n",
    "on x=-60785..11593,y=-56135..2999,z=-95368..-26915\n",
    "on x=-32178..58085,y=17647..101866,z=-91405..-8878\n",
    "on x=-53655..12091,y=50097..105568,z=-75335..-4862\n",
    "on x=-111166..-40997,y=-71714..2688,z=5609..50954\n",
    "on x=-16602..70118,y=-98693..-44401,z=5197..76897\n",
    "on x=16383..101554,y=4615..83635,z=-44907..18747\n",
    "off x=-95822..-15171,y=-19987..48940,z=10804..104439\n",
    "on x=-89813..-14614,y=16069..88491,z=-3297..45228\n",
    "on x=41075..99376,y=-20427..49978,z=-52012..13762\n",
    "on x=-21330..50085,y=-17944..62733,z=-112280..-30197\n",
    "on x=-16478..35915,y=36008..118594,z=-7885..47086\n",
    "off x=-98156..-27851,y=-49952..43171,z=-99005..-8456\n",
    "off x=2032..69770,y=-71013..4824,z=7471..94418\n",
    "on x=43670..120875,y=-42068..12382,z=-24787..38892\n",
    "off x=37514..111226,y=-45862..25743,z=-16714..54663\n",
    "off x=25699..97951,y=-30668..59918,z=-15349..69697\n",
    "off x=-44271..17935,y=-9516..60759,z=49131..112598\n",
    "on x=-61695..-5813,y=40978..94975,z=8655..80240\n",
    "off x=-101086..-9439,y=-7088..67543,z=33935..83858\n",
    "off x=18020..114017,y=-48931..32606,z=21474..89843\n",
    "off x=-77139..10506,y=-89994..-18797,z=-80..59318\n",
    "off x=8476..79288,y=-75520..11602,z=-96624..-24783\n",
    "on x=-47488..-1262,y=24338..100707,z=16292..72967\n",
    "off x=-84341..13987,y=2429..92914,z=-90671..-1318\n",
    "off x=-37810..49457,y=-71013..-7894,z=-105357..-13188\n",
    "off x=-27365..46395,y=31009..98017,z=15428..76570\n",
    "off x=-70369..-16548,y=22648..78696,z=-1892..86821\n",
    "on x=-53470..21291,y=-120233..-33476,z=-44150..38147\n",
    "off x=-93533..-4276,y=-16170..68771,z=-104985..-24507\"\"\""
   ]
  },
  {
   "cell_type": "markdown",
   "id": "4c51d052",
   "metadata": {},
   "source": [
    "# Part 1"
   ]
  },
  {
   "cell_type": "code",
   "execution_count": 43,
   "id": "6b1acbad",
   "metadata": {},
   "outputs": [
    {
     "name": "stdout",
     "output_type": "stream",
     "text": [
      "TEST RESULT:  474140\n",
      "ACTUAL RESULT:  503864\n"
     ]
    }
   ],
   "source": [
    "# run to solve part 1\n",
    "\n",
    "def toindex(x):\n",
    "    return x+50\n",
    "\n",
    "def part_1(aoc_input):\n",
    "    data = re.findall(r\"(\\w+) [^\\d-]+(-?\\d+)[^\\d-]+(-?\\d+)[^\\d-]+(-?\\d+)[^\\d-]+(-?\\d+)[^\\d-]+(-?\\d+)[^\\d-]+(-?\\d+)\", aoc_input)\n",
    "    true_data = np.zeros((101, 101, 101))\n",
    "    for sw, *nums in data:\n",
    "        xa, xb, ya, yb, za, zb = map(int, nums)\n",
    "        xl, xr, yl, yr, zl, zr = max(xa, -50), min(xb + 1, 51), max(ya, -50), min(yb + 1, 51), max(za, -50), min(zb + 1, 51)\n",
    "        if xl <= 50 and xr >= -50 and yl <= 50 and yr >= -50 and zl <= 50 and zr >= -50:\n",
    "            true_data[toindex(xl):toindex(xr),toindex(yl):toindex(yr),toindex(zl):toindex(zr)] = 1 if sw == 'on' else 0\n",
    "    return int(np.sum(true_data))\n",
    "\n",
    "part_1_test_answer = part_1(test_input)\n",
    "print(\"TEST RESULT: \", part_1_test_answer)\n",
    "part_1_answer = part_1(aoc.get_input(2021, 22))\n",
    "print(\"ACTUAL RESULT: \", part_1_answer)"
   ]
  },
  {
   "cell_type": "code",
   "execution_count": 20,
   "id": "e04b1aad",
   "metadata": {},
   "outputs": [
    {
     "name": "stdout",
     "output_type": "stream",
     "text": [
      "Submitting for YEAR 2021, DAY 22, LEVEL 1: 503864... Correct!\n"
     ]
    }
   ],
   "source": [
    "# run to submit part 1\n",
    "\n",
    "aoc.submit_answer(2021, 22, 1, part_1_answer)"
   ]
  },
  {
   "cell_type": "markdown",
   "id": "88b126bb",
   "metadata": {},
   "source": [
    "# Part 2"
   ]
  },
  {
   "cell_type": "code",
   "execution_count": 44,
   "id": "47c211fd",
   "metadata": {},
   "outputs": [
    {
     "name": "stdout",
     "output_type": "stream",
     "text": [
      "TEST RESULT:  2758514936282235\n",
      "ACTUAL RESULT:  1255547543528356\n"
     ]
    }
   ],
   "source": [
    "# run to solve part 2\n",
    "\n",
    "def get_overlap(bba, bbb):\n",
    "    xa, xb, ya, yb, za, zb = bba\n",
    "    _xa, _xb, _ya, _yb, _za, _zb = bbb\n",
    "    nxa = max(xa, _xa)\n",
    "    nxb = min(xb, _xb)\n",
    "    nya = max(ya, _ya)\n",
    "    nyb = min(yb, _yb)\n",
    "    nza = max(za, _za)\n",
    "    nzb = min(zb, _zb)\n",
    "    if nxb > nxa and nyb > nya and nzb > nza:\n",
    "        return nxa, nxb, nya, nyb, nza, nzb\n",
    "    else:\n",
    "        return None\n",
    "\n",
    "def merge(sw, bb, bbs):\n",
    "    new_bbs = [(sw, bb)]\n",
    "    for exsw, exbb in bbs:\n",
    "        overlap = get_overlap(bb, exbb)\n",
    "        if overlap is None:\n",
    "            new_bbs.append((exsw, exbb))\n",
    "        else:\n",
    "            oxa, oxb, oya, oyb, oza, ozb = overlap\n",
    "            exxa, exxb, exya, exyb, exza, exzb = exbb\n",
    "            x = {exxa, exxb}\n",
    "            y = {exya, exyb}\n",
    "            z = {exza, exzb}\n",
    "            if exxa < oxa < exxb: x.add(oxa)\n",
    "            if exxa < oxb < exxb: x.add(oxb)\n",
    "            if exya < oya < exyb: y.add(oya)\n",
    "            if exya < oyb < exyb: y.add(oyb)\n",
    "            if exza < oza < exzb: z.add(oza)\n",
    "            if exza < ozb < exzb: z.add(ozb)\n",
    "            for (x1, x2), (y1, y2), (z1, z2) in it.product(\n",
    "                it.pairwise(sorted(x)), it.pairwise(sorted(y)), it.pairwise(sorted(z))\n",
    "            ):\n",
    "                new_region = x1, x2, y1, y2, z1, z2\n",
    "                if new_region != overlap:\n",
    "                    new_bbs.append((exsw, new_region))\n",
    "    return new_bbs\n",
    "\n",
    "def get_size(bb):\n",
    "    xa, xb, ya, yb, za, zb = bb\n",
    "    return (xb-xa) * (yb-ya) * (zb-za)\n",
    "\n",
    "def part_2(aoc_input):\n",
    "    data = re.findall(r\"(\\w+) [^\\d-]+(-?\\d+)[^\\d-]+(-?\\d+)[^\\d-]+(-?\\d+)[^\\d-]+(-?\\d+)[^\\d-]+(-?\\d+)[^\\d-]+(-?\\d+)\", aoc_input)\n",
    "    bbs = []\n",
    "    for sw, *nums in data:\n",
    "        bb = list(map(int, nums))\n",
    "        bb = bb[0], bb[1] + 1, bb[2], bb[3] + 1, bb[4], bb[5] + 1\n",
    "        bbs = merge(sw, bb, bbs)\n",
    "    on_count = 0\n",
    "    for sw, bb in bbs:\n",
    "        if sw == 'on':\n",
    "            on_count += get_size(bb)\n",
    "    return on_count\n",
    "    for (swa, bba), (swb, bbb) in it.combinations(bbs, 2):\n",
    "        overlap = get_overlap(bba, bbb)\n",
    "        if overlap:\n",
    "            match swa, swb:\n",
    "                case 'on', 'on':\n",
    "                    switch_on_count -= get_size(overlap)\n",
    "                case 'on', 'off':\n",
    "                    switch_on_count -= get_size(overlap)\n",
    "    return switch_on_count\n",
    "    while bbs:\n",
    "        sw, bb = bbs.pop()\n",
    "        count_on = 0 if sw == 'off' else get_size(bb)\n",
    "        if sw == 'on':\n",
    "            already_overlapped_regions = []\n",
    "            for psw, pbb in proc_bbs:\n",
    "                result = get_overlap(bb, pbb)\n",
    "                if result is not None:\n",
    "                    count_on -= get_size(result)\n",
    "                    for alrov in already_overlapped_regions:\n",
    "                        alrov_result = get_overlap(result, alrov)\n",
    "                        if alrov_result is not None:\n",
    "                            count_on += get_size(alrov_result)\n",
    "                    already_overlapped_regions.append(result)\n",
    "        proc_bbs.append((sw, bb))\n",
    "        total_on += count_on\n",
    "                    \n",
    "    return total_on\n",
    "\n",
    "part_2_test_answer = part_2(test_input)\n",
    "print(\"TEST RESULT: \", part_2_test_answer)\n",
    "part_2_answer = part_2(aoc.get_input(2021, 22))\n",
    "print(\"ACTUAL RESULT: \", part_2_answer)"
   ]
  },
  {
   "cell_type": "code",
   "execution_count": 41,
   "id": "2ef25052",
   "metadata": {},
   "outputs": [
    {
     "name": "stdout",
     "output_type": "stream",
     "text": [
      "Submitting for YEAR 2021, DAY 22, LEVEL 2: 1255547543528356... Correct!\n"
     ]
    }
   ],
   "source": [
    "# run to submit part 2\n",
    "\n",
    "aoc.submit_answer(2021, 22, 2, part_2_answer)"
   ]
  },
  {
   "cell_type": "code",
   "execution_count": null,
   "id": "4516696f",
   "metadata": {},
   "outputs": [],
   "source": []
  }
 ],
 "metadata": {
  "kernelspec": {
   "display_name": "Python 3 (ipykernel)",
   "language": "python",
   "name": "python3"
  },
  "language_info": {
   "codemirror_mode": {
    "name": "ipython",
    "version": 3
   },
   "file_extension": ".py",
   "mimetype": "text/x-python",
   "name": "python",
   "nbconvert_exporter": "python",
   "pygments_lexer": "ipython3",
   "version": "3.10.0"
  }
 },
 "nbformat": 4,
 "nbformat_minor": 5
}
